{
 "cells": [
  {
   "cell_type": "markdown",
   "metadata": {},
   "source": []
  },
  {
   "cell_type": "markdown",
   "metadata": {},
   "source": [
    "Using Bertam's Analytic solutions for optimal statistical arbitrage trading and Optimal trading strategies for Ito diffusion processes \n",
    "\n",
    "We model the price of a spread $ {s}_{t} $ as,\n",
    "\n",
    "$$\n",
    "{s}_{t} = {e}^{{X}_{t}}\n",
    "$$\n",
    "\n",
    "Where ${X}_{t} $ satisfies the following stochastic equation, \n",
    "\n",
    "$$\n",
    "{dX}_{t} = {-}\\alpha{X}_{t}{dt}{ + }\\eta{dW}_{t}\n",
    "$$\n",
    "\n",
    "and $\\alpha > 0 $, $\\eta > 0$, and ${W}_{t}$ is a Wiener process\n",
    "\n",
    "A continuous time trading strategy is defined by entering a trade when, ${X}_{t} = {a}$, exiting the trade when ${X}_{t} = {m}$, and waiting until the process returns to ${X}_{t} = {a}$ \n",
    "\n",
    "The goal of the strategy is to determine appropriate levels for ${a}$ and ${m}$ such that expected return is maximised or maximising with respect to sharpe ratio. \n",
    "\n",
    "\n",
    "### Mazimising Expected return\n",
    "Using equation (18) we can find the value for ${a}$ that maximises expected return for the strategy. Using values obtained for $\\alpha$, $\\eta$ and transaction costs ${c}$, where ${a} < 0$ and ${m} = -{a}$. \n",
    "\n",
    "$${a} = -\\frac{c}{4} - \\frac{{c}^{2}{\\alpha}}{4({c^3}{\\alpha^3} + 24{c}{\\alpha^2}{\\eta^2} -4{\\sqrt{3{c^4}{\\alpha^5}{\\eta^2} + 36{c^2}{\\alpha^4}{\\eta}}})^{1/3}}- \\frac{({c^3}{\\alpha^3} + 24{c}{\\alpha^2}{\\eta^2} -4{\\sqrt{3{c^4}{\\alpha^5}{\\eta^2} +36{c^2}{\\alpha^4}{\\eta^4}}})^{1/3}}{4{\\alpha}}$$\n",
    "\n",
    "### Maximum Sharpe ratio\n",
    "Similarly, an analytic formula can be maximised to find ${a}$ for an optimal Sharpe ratio using equation (20). Again, ${a} < 0$ and ${m} = -{a}$\n",
    "\n",
    "$$ {S}^*{({a},{c},{r}_{f})} = {\\frac{-(2{a}+{c}+{r}_{f}){\\sqrt{{\\alpha}{\\pi}Erfi{(\\frac{{a}{\\sqrt{\\alpha}}}{\\eta})}}}}{\\sqrt{{(2a + c)^2}{({w}_{1}(\\frac{{a}{\\sqrt{\\alpha}}}{\\eta}) + {w}_{2}(\\frac{{a}{\\sqrt{\\alpha}}}{\\eta}))}}}} $$"
   ]
  },
  {
   "cell_type": "markdown",
   "metadata": {},
   "source": [
    "### Estimating ${\\alpha}$ & ${\\eta}$\n",
    "\n",
    "With transaction costs being readily attainable, parameters for ${\\alpha}$ & ${\\eta}$ must be estimated for the model before values for ${a}$ & ${m}$ can be found using the above optimal methods.  \n",
    "\n",
    "#### Method 1. Linear Regression\n",
    "\n",
    "Bertram suggests fitting the OU process, ${dX}_{t} = {-}\\alpha{X}_{t}{dt}{ + }\\eta{dW}_{t}$ using linear regression to fit and find values for ${\\alpha}$ & ${\\eta}$\n",
    "\n",
    "#### Method 2. ARMA order (1,0) process \n",
    "\n",
    "Parameters may also be obtained by fitting an AR(1) model\n",
    "\n",
    "below is code implementation for both."
   ]
  },
  {
   "cell_type": "code",
   "execution_count": 68,
   "metadata": {},
   "outputs": [
    {
     "data": {
      "image/png": "[encoded data removed]",
      "text/plain": [
       "<Figure size 432x288 with 1 Axes>"
      ]
     },
     "metadata": {
      "needs_background": "light"
     },
     "output_type": "display_data"
    }
   ],
   "source": [
    "#import Libraries \n",
    "import pandas as pd\n",
    "import numpy as np \n",
    "from statsmodels.tsa.arima_model import ARMA\n",
    "import statsmodels.api as sm\n",
    "# Import sample data to work with\n",
    "# High Frequency Brent contracts, CO1 & CO2, first and second dated active futures contracts \n",
    "# column 'orig' contains the spread to be modeled \n",
    "df = pd.read_csv('Sample_set.csv')\n",
    "# Plot the log spread \n",
    "df.orig.plot();"
   ]
  },
  {
   "cell_type": "code",
   "execution_count": 69,
   "metadata": {},
   "outputs": [],
   "source": [
    "# Function to fit OU process estimate alpha and eta values using linear regression \n",
    "# input:\n",
    "# df - dataframe \n",
    "# spread - label for coloumn contained in df with spread\n",
    "# t1_spread - label for column in for the shifted spread\n",
    "# returns\n",
    "# alpha\n",
    "# eta\n",
    "\n",
    "def OU_fit_LR(df, spread, t1_spread):\n",
    "    results = sm.OLS(df[spread],df[t1_spread]).fit()\n",
    "    alpha = (results.params[0])\n",
    "    eta = (results.bse[0])\n",
    "    return alpha, eta \n",
    "\n",
    "# Function to fit OU process estimate alpha and eta values using AR(1)\n",
    "# input:\n",
    "# df - dataframe \n",
    "# spread - label for coloumn contained in df with spread\n",
    "# returns\n",
    "# alpha\n",
    "# eta\n",
    "\n",
    "def OU_fit_AR1(df, spread):\n",
    "    model = ARMA(df[spread], order=(1, 0))\n",
    "    results = model.fit()\n",
    "    alpha = results.params[1]\n",
    "    eta = results.bse[1]\n",
    "    return alpha, eta \n",
    "\n",
    "\n",
    "    "
   ]
  },
  {
   "cell_type": "code",
   "execution_count": 25,
   "metadata": {},
   "outputs": [
    {
     "name": "stdout",
     "output_type": "stream",
     "text": [
      "Linear Regression results: \n",
      "\n",
      "Alpha:    0.9702551616607097\n",
      "Eta:      0.0023149605578142015\n",
      "\n",
      " \n",
      "AR(1) results: \n",
      "\n",
      "Alpha:    0.9702551616607097\n",
      "Eta:      0.0023149605578142015\n"
     ]
    }
   ],
   "source": [
    "# compare result of two functions \n",
    "print ('Linear Regression results: \\n' )\n",
    "LR_alpha, LR_eta = OU_fit_LR(df, 'orig', 't1')\n",
    "print ('Alpha:   ', LR_alpha)\n",
    "print ('Eta:     ', LR_eta)\n",
    "\n",
    "print ('\\n \\nAR(1) results: \\n' )\n",
    "AR_alpha, AR_eta = OU_fit_AR1(df, 'orig')\n",
    "print ('Alpha:   ', LR_alpha)\n",
    "print ('Eta:     ', LR_eta)"
   ]
  },
  {
   "cell_type": "markdown",
   "metadata": {},
   "source": [
    "### Finding a (Maximising Expected Return)\n",
    "Using equation (18) we can find the value for ${a}$ that maximises expected return for the strategy. Using values obtained for $\\alpha$, $\\eta$ and transaction costs ${c}$, where ${a} < 0$ and ${m} = -{a}$. \n",
    "\n",
    "$${a} = -\\frac{c}{4} - \\frac{{c}^{2}{\\alpha}}{4({c^3}{\\alpha^3} + 24{c}{\\alpha^2}{\\eta^2} -4{\\sqrt{3{c^4}{\\alpha^5}{\\eta^2} + 36{c^2}{\\alpha^4}{\\eta}}})^{1/3}}- \\frac{({c^3}{\\alpha^3} + 24{c}{\\alpha^2}{\\eta^2} -4{\\sqrt{3{c^4}{\\alpha^5}{\\eta^2} +36{c^2}{\\alpha^4}{\\eta^4}}})^{1/3}}{4{\\alpha}}$$"
   ]
  },
  {
   "cell_type": "code",
   "execution_count": 73,
   "metadata": {},
   "outputs": [
    {
     "name": "stdout",
     "output_type": "stream",
     "text": [
      "Test sample: \n",
      "   Alpha:    0.9513703104138301\n",
      "   Eta:      0.002944044376046845\n",
      "   Transaction Cost :  0.02\n",
      "\n",
      " \n",
      "Estimated value for a:  -0.021149115615019247\n"
     ]
    }
   ],
   "source": [
    "### function - implementaion of maximum expected return\n",
    "### inputs:\n",
    "### a - value for alpha\n",
    "### n - value for eta\n",
    "### c - transaction costs\n",
    "### returns:\n",
    "### res - rseult for a using eq. (18)\n",
    "\n",
    "\n",
    "def mer(a,n,c):\n",
    "    var1 = -c/4\n",
    "    denom1 = (c**3*a**3) + (24*c*a**2*n**2)\n",
    "    denom2 = 4*(np.sqrt(((3*c**4*a**5*n**2) + (36*c**2*a**4*n**4))))\n",
    "    denom3 = 4 * ((denom1 - denom2)**(1/3))\n",
    "    var2 = (c**2*a) / denom3\n",
    "    numer1 = c**3*a**3 + (24*c*a**2*n**2)\n",
    "    numer2 = 4 * np.sqrt((3*c**4*a**5*n**2 + 36*c**2*a**4*n**4))\n",
    "    numer3 = ((numer1 - numer2))**(1/3)\n",
    "    var3 = numer3 / (4*a)\n",
    "    res = var1 - var2 - var3\n",
    "    return res\n",
    "\n",
    "print ('Test sample: ')\n",
    "print ('   Alpha:   ', AR_alpha)\n",
    "print ('   Eta:     ', AR_eta)\n",
    "t_c = 0.02\n",
    "print ('   Transaction Cost : ', t_c)\n",
    "a_param = mer(0.049761115, 0.003020633, t_c)\n",
    "print ('\\n \\nEstimated value for a: ', a_param)"
   ]
  },
  {
   "cell_type": "code",
   "execution_count": 74,
   "metadata": {},
   "outputs": [
    {
     "data": {
      "image/png": "[encoded data removed]",
      "text/plain": [
       "<Figure size 432x288 with 1 Axes>"
      ]
     },
     "metadata": {
      "needs_background": "light"
     },
     "output_type": "display_data"
    }
   ],
   "source": [
    "# Plot the spread versus entry and exit values, a & m\n",
    "\n",
    "df_spread_test = pd.DataFrame(df.orig)\n",
    "df_spread_test['a'] = a_param\n",
    "df_spread_test['m'] = a_param * -1\n",
    "df_spread_test.plot();"
   ]
  },
  {
   "cell_type": "code",
   "execution_count": 80,
   "metadata": {},
   "outputs": [],
   "source": [
    "### messy backtester function \n",
    "df['CO1_ret'] = np.log(df.CO1 / df.CO1.shift())\n",
    "df['CO2_ret'] = np.log(df.CO2 / df.CO2.shift())\n",
    "\n",
    "def backtest(df, t_c):\n",
    "    # create results dictionary\n",
    "    res_df = pd.DataFrame()\n",
    "    pnl_vectors = pd.DataFrame()\n",
    "    for tc in t_c:\n",
    "        res = {}\n",
    "        res['transaction cost'] = tc\n",
    "        #find a & m using maximum expected return formula\n",
    "        a = -0.021149115615019247\n",
    "        m = -a\n",
    "        #store result\n",
    "        res['Optimal Trade Entry (a)'] = a\n",
    "        #generate vecoried buy-sell signals \n",
    "        #buy when Xt <= a\n",
    "        df['bs'] = np.where(df.orig <= a, 1, 0)\n",
    "        #sell when Xt >= m \n",
    "        df['bs'] = np.where(df.orig >= m, -1, df.bs)\n",
    "        #fill neutral signals with previous buy/sell signal \n",
    "        df.bs = np.where(df.bs == 0 , df.bs.shift(-1), df.bs)\n",
    "        #find pnl\n",
    "        df['pnl'] = df.bs.shift(1) * df.CO1_ret - df.bs.shift(1) * df.CO2_ret\n",
    "        #store vetor in result dataframe\n",
    "        pnl_vectors['pnl_tc_' + str(tc)] = df.pnl\n",
    "        res['total return']= df.pnl.sum()\n",
    "        res['Sharpe'] = df.pnl.mean() / df.pnl.std() * np.sqrt(6*24*252) \n",
    "        trade_count = 0 \n",
    "        for i in range(1,len(df)):\n",
    "            if df.loc[i, 'bs'] != df.loc[i-1, 'bs']:\n",
    "                trade_count += 1\n",
    "        res['Trade_count'] = trade_count\n",
    "        res['avg hold period (hrs)'] = 2880 / trade_count \n",
    "        res_df = res_df.append(res, ignore_index = True)\n",
    "    return res_df, pnl_vectors\n",
    "        \n",
    "    \n",
    "bt_results, bt_vectors = backtest(df, [0.0001, 0.002, 0.02])"
   ]
  },
  {
   "cell_type": "code",
   "execution_count": 81,
   "metadata": {},
   "outputs": [
    {
     "name": "stdout",
     "output_type": "stream",
     "text": [
      "   Optimal Trade Entry (a)    Sharpe  Trade_count  avg hold period (hrs)  \\\n",
      "0                -0.021149  0.510659        233.0              12.360515   \n",
      "1                -0.021149  0.510659        233.0              12.360515   \n",
      "2                -0.021149  0.510659        233.0              12.360515   \n",
      "\n",
      "   total return  transaction cost  \n",
      "0      0.037011            0.0001  \n",
      "1      0.037011            0.0020  \n",
      "2      0.037011            0.0200  \n"
     ]
    }
   ],
   "source": [
    "print (bt_results)"
   ]
  },
  {
   "cell_type": "code",
   "execution_count": 82,
   "metadata": {},
   "outputs": [
    {
     "data": {
      "text/plain": [
       "<matplotlib.axes._subplots.AxesSubplot at 0x1f5cd409cc8>"
      ]
     },
     "execution_count": 82,
     "metadata": {},
     "output_type": "execute_result"
    },
    {
     "data": {
      "image/png": "[encoded data removed]",
      "text/plain": [
       "<Figure size 432x288 with 1 Axes>"
      ]
     },
     "metadata": {
      "needs_background": "light"
     },
     "output_type": "display_data"
    }
   ],
   "source": [
    "bt_vectors.cumsum().plot()"
   ]
  },
  {
   "cell_type": "markdown",
   "metadata": {},
   "source": [
    "### Maximum Sharpe ratio\n",
    "Similarly, an analytic formula can be maximised to find ${a}$ for an optimal Sharpe ratio using equation (20). Again, ${a} < 0$ and ${m} = -{a}$\n",
    "\n",
    "$$ {S}^*{({a},{c},{r}_{f})} = {\\frac{-(2{a}+{c}+{r}_{f}){\\sqrt{{\\alpha}{\\pi}Erfi{(\\frac{{a}{\\sqrt{\\alpha}}}{\\eta})}}}}{\\sqrt{{(2a + c)^2}{({w}_{1}(\\frac{{a}{\\sqrt{\\alpha}}}{\\eta}) + {w}_{2}(\\frac{{a}{\\sqrt{\\alpha}}}{\\eta}))}}}} $$\n",
    "\n",
    "Where, $ Erfi({x}) = iErfi(ix) $ is the imaginary error function \n",
    "\n",
    "and,\n",
    "\n",
    "$$ {w}_{1}({z})=(1/2 \\sum_{{k}=1}^\\infty \\Gamma ({k}/2) (\\sqrt{2}{z})^{k} / {k!})^2-(1/2 \\sum_{{k}=1}^\\infty (-1)^{k} \\Gamma ({k}/2) (\\sqrt{2}{z})^{k} /{k!})^2$$\n",
    "\n",
    "$$ {w}_{2}({z}) = \\sum_{{k}=1}^\\infty \\Gamma ((2{k} - 1)/2) \\Psi ((2{k} -1)/2) (\\sqrt{2} {z})^{(2k -1)} / (2k-1)! $$"
   ]
  },
  {
   "cell_type": "code",
   "execution_count": null,
   "metadata": {},
   "outputs": [],
   "source": []
  },
  {
   "cell_type": "code",
   "execution_count": null,
   "metadata": {},
   "outputs": [],
   "source": []
  },
  {
   "cell_type": "code",
   "execution_count": 67,
   "metadata": {},
   "outputs": [
    {
     "data": {
      "text/html": [
       "<table class=\"simpletable\">\n",
       "<caption>OLS Regression Results</caption>\n",
       "<tr>\n",
       "  <th>Dep. Variable:</th>          <td>orig</td>       <th>  R-squared (uncentered):</th>       <td>   0.941</td> \n",
       "</tr>\n",
       "<tr>\n",
       "  <th>Model:</th>                   <td>OLS</td>       <th>  Adj. R-squared (uncentered):</th>  <td>   0.941</td> \n",
       "</tr>\n",
       "<tr>\n",
       "  <th>Method:</th>             <td>Least Squares</td>  <th>  F-statistic:       </th>           <td>1.757e+05</td>\n",
       "</tr>\n",
       "<tr>\n",
       "  <th>Date:</th>             <td>Tue, 05 Jan 2021</td> <th>  Prob (F-statistic):</th>            <td>  0.00</td>  \n",
       "</tr>\n",
       "<tr>\n",
       "  <th>Time:</th>                 <td>16:43:33</td>     <th>  Log-Likelihood:    </th>           <td>  48750.</td> \n",
       "</tr>\n",
       "<tr>\n",
       "  <th>No. Observations:</th>      <td> 10934</td>      <th>  AIC:               </th>          <td>-9.750e+04</td>\n",
       "</tr>\n",
       "<tr>\n",
       "  <th>Df Residuals:</th>          <td> 10933</td>      <th>  BIC:               </th>          <td>-9.749e+04</td>\n",
       "</tr>\n",
       "<tr>\n",
       "  <th>Df Model:</th>              <td>     1</td>      <th>                     </th>               <td> </td>    \n",
       "</tr>\n",
       "<tr>\n",
       "  <th>Covariance Type:</th>      <td>nonrobust</td>    <th>                     </th>               <td> </td>    \n",
       "</tr>\n",
       "</table>\n",
       "<table class=\"simpletable\">\n",
       "<tr>\n",
       "   <td></td>     <th>coef</th>     <th>std err</th>      <th>t</th>      <th>P>|t|</th>  <th>[0.025</th>    <th>0.975]</th>  \n",
       "</tr>\n",
       "<tr>\n",
       "  <th>t1</th> <td>    0.9703</td> <td>    0.002</td> <td>  419.124</td> <td> 0.000</td> <td>    0.966</td> <td>    0.975</td>\n",
       "</tr>\n",
       "</table>\n",
       "<table class=\"simpletable\">\n",
       "<tr>\n",
       "  <th>Omnibus:</th>       <td>1424.478</td> <th>  Durbin-Watson:     </th> <td>   1.991</td> \n",
       "</tr>\n",
       "<tr>\n",
       "  <th>Prob(Omnibus):</th>  <td> 0.000</td>  <th>  Jarque-Bera (JB):  </th> <td>17951.805</td>\n",
       "</tr>\n",
       "<tr>\n",
       "  <th>Skew:</th>           <td>-0.022</td>  <th>  Prob(JB):          </th> <td>    0.00</td> \n",
       "</tr>\n",
       "<tr>\n",
       "  <th>Kurtosis:</th>       <td> 9.277</td>  <th>  Cond. No.          </th> <td>    1.00</td> \n",
       "</tr>\n",
       "</table><br/><br/>Warnings:<br/>[1] Standard Errors assume that the covariance matrix of the errors is correctly specified."
      ],
      "text/plain": [
       "<class 'statsmodels.iolib.summary.Summary'>\n",
       "\"\"\"\n",
       "                                 OLS Regression Results                                \n",
       "=======================================================================================\n",
       "Dep. Variable:                   orig   R-squared (uncentered):                   0.941\n",
       "Model:                            OLS   Adj. R-squared (uncentered):              0.941\n",
       "Method:                 Least Squares   F-statistic:                          1.757e+05\n",
       "Date:                Tue, 05 Jan 2021   Prob (F-statistic):                        0.00\n",
       "Time:                        16:43:33   Log-Likelihood:                          48750.\n",
       "No. Observations:               10934   AIC:                                 -9.750e+04\n",
       "Df Residuals:                   10933   BIC:                                 -9.749e+04\n",
       "Df Model:                           1                                                  \n",
       "Covariance Type:            nonrobust                                                  \n",
       "==============================================================================\n",
       "                 coef    std err          t      P>|t|      [0.025      0.975]\n",
       "------------------------------------------------------------------------------\n",
       "t1             0.9703      0.002    419.124      0.000       0.966       0.975\n",
       "==============================================================================\n",
       "Omnibus:                     1424.478   Durbin-Watson:                   1.991\n",
       "Prob(Omnibus):                  0.000   Jarque-Bera (JB):            17951.805\n",
       "Skew:                          -0.022   Prob(JB):                         0.00\n",
       "Kurtosis:                       9.277   Cond. No.                         1.00\n",
       "==============================================================================\n",
       "\n",
       "Warnings:\n",
       "[1] Standard Errors assume that the covariance matrix of the errors is correctly specified.\n",
       "\"\"\""
      ]
     },
     "execution_count": 67,
     "metadata": {},
     "output_type": "execute_result"
    }
   ],
   "source": [
    "results = sm.OLS(df['orig'],df['t1']).fit()\n",
    "results.summary()"
   ]
  },
  {
   "cell_type": "code",
   "execution_count": 83,
   "metadata": {},
   "outputs": [
    {
     "name": "stdout",
     "output_type": "stream",
     "text": [
      "[('co1', 'co2'), ('co1', 'gs1'), ('co1', 'ho1'), ('co1', 'ho2'), ('co2', 'gs1'), ('co2', 'ho1'), ('co2', 'ho2'), ('gs1', 'ho1'), ('gs1', 'ho2'), ('ho1', 'ho2')]\n"
     ]
    }
   ],
   "source": []
  },
  {
   "cell_type": "code",
   "execution_count": null,
   "metadata": {},
   "outputs": [],
   "source": []
  },
  {
   "cell_type": "markdown",
   "metadata": {},
   "source": [
    "$- \\frac{({c^3}{\\alpha^3} + 24{c}{\\alpha^2}{\\eta^2} -4{\\sqrt{3{c^4}{\\alpha^5}{\\eta^2} +36{c^2}{\\alpha^4}{\\eta^4}}})^{1/3}}{4{\\alpha}}$"
   ]
  },
  {
   "cell_type": "markdown",
   "metadata": {},
   "source": [
    "$${a} = -\\frac{c}{4} - \\frac{{c}^{2}{\\alpha}}{4({c^3}{\\alpha^3} + 24{c}{\\alpha^2}{\\eta^2} -4{\\sqrt{3{c^4}{\\alpha^5}{\\eta^2} + 36{c^2}{\\alpha^4}{\\eta}}})^{1/3}}- \\frac{({c^3}{\\alpha^3} + 24{c}{\\alpha^2}{\\eta^2} -4{\\sqrt{3{c^4}{\\alpha^5}{\\eta^2} +36{c^2}{\\alpha^4}{\\eta^4}}})^{1/3}}{4{\\alpha}}$$"
   ]
  },
  {
   "cell_type": "markdown",
   "metadata": {},
   "source": [
    "$\\frac{-(2{a}+{c}+{r}_{f}){\\sqrt{{\\alpha}{\\pi}Erfi{(\\frac{{a}{\\sqrt{\\alpha}}}{\\eta})}}}}{\\sqrt{{(2a + c)^2}{({w}_{1}(\\frac{{a}{\\sqrt{\\alpha}}}{\\eta}) + {w}_{2}(\\frac{{a}{\\sqrt{\\alpha}}}{\\eta}))}}}$"
   ]
  },
  {
   "cell_type": "markdown",
   "metadata": {},
   "source": [
    "$ {(\\frac{{a}{\\sqrt{\\alpha}}}{\\eta})}$"
   ]
  },
  {
   "cell_type": "code",
   "execution_count": null,
   "metadata": {},
   "outputs": [],
   "source": [
    "${4({c^3}{\\alpha^3} + 24{c}{\\alpha^2}{\\eta^2} -4{\\sqrt{3{c^4}{\\alpha^5}{\\eta^2} + 36{c^2}{\\alpha^4}{\\eta}}})^{1/3}}$"
   ]
  }
 ],
 "metadata": {
  "kernelspec": {
   "display_name": "Python 3",
   "language": "python",
   "name": "python3"
  },
  "language_info": {
   "codemirror_mode": {
    "name": "ipython",
    "version": 3
   },
   "file_extension": ".py",
   "mimetype": "text/x-python",
   "name": "python",
   "nbconvert_exporter": "python",
   "pygments_lexer": "ipython3",
   "version": "3.7.6"
  }
 },
 "nbformat": 4,
 "nbformat_minor": 4
}
