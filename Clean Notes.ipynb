{
 "cells": [
  {
   "cell_type": "markdown",
   "metadata": {},
   "source": [
    "\\begin{align}\n",
    "\\{x} & = \\sigma(y-x) \\\\\n",
    "\\end{align}\n"
   ]
  },
  {
   "cell_type": "markdown",
   "metadata": {},
   "source": [
    "Denote by **e** the vector of expected returns of the $n$ assets. Then the portfolio expected return is\n",
    "$$\n",
    "\\sum_{i=1}^nw_ie_i\n",
    "$$\n",
    "Finally, denote by $\\boldsymbol\\Sigma$ the covariance matrix of returns of the $n$ assets. Then the variance of portfolio returns is"
   ]
  },
  {
   "cell_type": "markdown",
   "metadata": {},
   "source": [
    "$$\n",
    "\\{x}  \n",
    "$$"
   ]
  },
  {
   "cell_type": "markdown",
   "metadata": {},
   "source": [
    "We model the price of a spread $ {s}_{t} $ as,\n",
    "\n",
    "$$\n",
    "{s}_{t} = {e}^{{X}_{t}}\n",
    "$$\n",
    "\n",
    "Where ${X}_{t} $ satisfies the following stochastic equation, \n",
    "\n",
    "$$\n",
    "{dX}_{t} = {-}\\alpha{X}_{t}{dt}{ + }\\eta{dW}_{t}\n",
    "$$\n",
    "\n",
    "and $\\alpha > 0 $, $\\eta > 0$, and ${W}_{t}$ is a Wiener process"
   ]
  },
  {
   "cell_type": "code",
   "execution_count": null,
   "metadata": {},
   "outputs": [],
   "source": []
  }
 ],
 "metadata": {
  "kernelspec": {
   "display_name": "Python 3",
   "language": "python",
   "name": "python3"
  },
  "language_info": {
   "codemirror_mode": {
    "name": "ipython",
    "version": 3
   },
   "file_extension": ".py",
   "mimetype": "text/x-python",
   "name": "python",
   "nbconvert_exporter": "python",
   "pygments_lexer": "ipython3",
   "version": "3.7.6"
  }
 },
 "nbformat": 4,
 "nbformat_minor": 4
}
