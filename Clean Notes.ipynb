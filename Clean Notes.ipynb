{
 "cells": [
  {
   "cell_type": "markdown",
   "metadata": {},
   "source": []
  },
  {
   "cell_type": "markdown",
   "metadata": {},
   "source": [
    "Using Bertam's Analytic solutions for optimal statistical arbitrage trading and Optimal trading strategies for Ito diffusion processes \n",
    "\n",
    "We model the price of a spread $ {s}_{t} $ as,\n",
    "\n",
    "$$\n",
    "{s}_{t} = {e}^{{X}_{t}}\n",
    "$$\n",
    "\n",
    "Where ${X}_{t} $ satisfies the following stochastic equation, \n",
    "\n",
    "$$\n",
    "{dX}_{t} = {-}\\alpha{X}_{t}{dt}{ + }\\eta{dW}_{t}\n",
    "$$\n",
    "\n",
    "and $\\alpha > 0 $, $\\eta > 0$, and ${W}_{t}$ is a Wiener process\n",
    "\n",
    "A continuous time trading strategy is defined by entering a trade when, ${X}_{t} = {a}$, exiting the trade when ${X}_{t} = {m}$, and waiting until the process returns to ${X}_{t} = {a}$ \n",
    "\n",
    "The goal of the strategy is to determine appropriate levels for ${a}$ and ${m}$ such that expected return is maximised or maximising with respect to sharpe ratio. \n",
    "\n",
    "\n",
    "### Mazimising Expected return\n",
    "Using equation (18) we can find the value for ${a}$ that maximises expected return for the strategy. Using values obtained for $\\alpha$, $\\eta$ and transaction costs ${c}$, where ${a} < 0$ and ${m} = -{a}$. \n",
    "\n",
    "$${a} = -\\frac{c}{4} - \\frac{{c}^{2}{\\alpha}}{4({c^3}{\\alpha^3} + 24{c}{\\alpha^2}{\\eta^2} -4{\\sqrt{3{c^4}{\\alpha^5}{\\eta^2} + 36{c^2}{\\alpha^4}{\\eta}}})^{1/3}}- \\frac{({c^3}{\\alpha^3} + 24{c}{\\alpha^2}{\\eta^2} -4{\\sqrt{3{c^4}{\\alpha^5}{\\eta^2} +36{c^2}{\\alpha^4}{\\eta^4}}})^{1/3}}{4{\\alpha}}$$\n",
    "\n",
    "### Maximum Sharpe ratio\n",
    "Similarly, an analytic formula can be maximised to find ${a}$ for an optimal Sharpe ratio using equation (20). Again, ${a} < 0$ and ${m} = -{a}$\n",
    "\n",
    "$$ {S}^*{({a},{c},{r}_{f})} = {\\frac{-(2{a}+{c}+{r}_{f}){\\sqrt{{\\alpha}{\\pi}Erfi{(\\frac{{a}{\\sqrt{\\alpha}}}{\\eta})}}}}{\\sqrt{{(2a + c)^2}{({w}_{1}(\\frac{{a}{\\sqrt{\\alpha}}}{\\eta}) + {w}_{2}(\\frac{{a}{\\sqrt{\\alpha}}}{\\eta}))}}}} $$"
   ]
  },
  {
   "cell_type": "markdown",
   "metadata": {},
   "source": [
    "### Estimating ${\\alpha}$ & ${\\eta}$\n",
    "\n",
    "With transaction costs being readily attainable, parameters for ${\\alpha}$ & ${\\eta}$ must be estimated for the model before values for ${a}$ & ${m}$ can be found using the above optimal methods.  \n",
    "\n",
    "#### Method 1. Linear Regression\n",
    "\n",
    "Bertram suggests fitting the OU process, ${dX}_{t} = {-}\\alpha{X}_{t}{dt}{ + }\\eta{dW}_{t}$ using linear regression to fit and find values for ${\\alpha}$ & ${\\eta}$\n",
    "\n",
    "#### Method 2. ARMA order (1,0) process \n",
    "\n",
    "Parameters may also be obtained by fitting an AR(1) model\n",
    "\n",
    "below is code implementation for both."
   ]
  },
  {
   "cell_type": "code",
   "execution_count": 5,
   "metadata": {},
   "outputs": [
    {
     "data": {
      "image/png": "[encoded data removed]",
      "text/plain": [
       "<Figure size 432x288 with 1 Axes>"
      ]
     },
     "metadata": {
      "needs_background": "light"
     },
     "output_type": "display_data"
    }
   ],
   "source": [
    "#import Libraries \n",
    "import pandas as pd\n",
    "import numpy as np \n",
    "from statsmodels.tsa.arima_model import ARMA\n",
    "import statsmodels.api as sm\n",
    "# Import sample data to work with\n",
    "# High Frequency Brent contracts, CO1 & CO2, first and second dated active futures contracts \n",
    "# column 'orig' contains the spread to be modeled \n",
    "df = pd.read_csv('Sample_set.csv')\n",
    "# Plot the log spread \n",
    "df.orig.plot();"
   ]
  },
  {
   "cell_type": "code",
   "execution_count": 21,
   "metadata": {},
   "outputs": [],
   "source": [
    "# Function to fit OU process estimate alpha and eta values using linear regression \n",
    "# input:\n",
    "# df - dataframe \n",
    "# spread - label for coloumn contained in df with spread\n",
    "# t1_spread - label for column in for the shifted spread\n",
    "# returns\n",
    "# alpha\n",
    "# eta\n",
    "\n",
    "def OU_fit_LR(df, spread, t1_spread):\n",
    "    results = sm.OLS(df[spread],df[t1_spread]).fit()\n",
    "    alpha = (results.params[0])\n",
    "    eta = (results.bse[0])\n",
    "    return alpha, eta \n",
    "\n",
    "# Function to fit OU process estimate alpha and eta values using AR(1)\n",
    "# input:\n",
    "# df - dataframe \n",
    "# spread - label for coloumn contained in df with spread\n",
    "# returns\n",
    "# alpha\n",
    "# eta\n",
    "\n",
    "def OU_fit_AR1(df, spread):\n",
    "    model = ARMA(df[spread], order=(1, 0))\n",
    "    results = model.fit()\n",
    "    alpha = results.params[1]\n",
    "    eta = results.bse[1]\n",
    "    return alpha, eta \n",
    "\n",
    "\n",
    "    "
   ]
  },
  {
   "cell_type": "code",
   "execution_count": 25,
   "metadata": {},
   "outputs": [
    {
     "name": "stdout",
     "output_type": "stream",
     "text": [
      "Linear Regression results: \n",
      "\n",
      "Alpha:    0.9702551616607097\n",
      "Eta:      0.0023149605578142015\n",
      "\n",
      " \n",
      "AR(1) results: \n",
      "\n",
      "Alpha:    0.9702551616607097\n",
      "Eta:      0.0023149605578142015\n"
     ]
    }
   ],
   "source": [
    "# compare result of two functions \n",
    "print ('Linear Regression results: \\n' )\n",
    "LR_alpha, LR_eta = OU_fit_LR(df, 'orig', 't1')\n",
    "print ('Alpha:   ', LR_alpha)\n",
    "print ('Eta:     ', LR_eta)\n",
    "\n",
    "print ('\\n \\nAR(1) results: \\n' )\n",
    "AR_alpha, AR_eta = OU_fit_AR1(df, 'orig')\n",
    "print ('Alpha:   ', LR_alpha)\n",
    "print ('Eta:     ', LR_eta)"
   ]
  },
  {
   "cell_type": "markdown",
   "metadata": {},
   "source": [
    "### Finding a (Maximising Expected Return)\n",
    "Using equation (18) we can find the value for ${a}$ that maximises expected return for the strategy. Using values obtained for $\\alpha$, $\\eta$ and transaction costs ${c}$, where ${a} < 0$ and ${m} = -{a}$. \n",
    "\n",
    "$${a} = -\\frac{c}{4} - \\frac{{c}^{2}{\\alpha}}{4({c^3}{\\alpha^3} + 24{c}{\\alpha^2}{\\eta^2} -4{\\sqrt{3{c^4}{\\alpha^5}{\\eta^2} + 36{c^2}{\\alpha^4}{\\eta}}})^{1/3}}- \\frac{({c^3}{\\alpha^3} + 24{c}{\\alpha^2}{\\eta^2} -4{\\sqrt{3{c^4}{\\alpha^5}{\\eta^2} +36{c^2}{\\alpha^4}{\\eta^4}}})^{1/3}}{4{\\alpha}}$$"
   ]
  },
  {
   "cell_type": "code",
   "execution_count": 44,
   "metadata": {},
   "outputs": [
    {
     "name": "stdout",
     "output_type": "stream",
     "text": [
      "Test sample: \n",
      "   Alpha:    0.9513703104138301\n",
      "   Eta:      0.002944044376046845\n",
      "   Transaction Cost :  0.02\n",
      "\n",
      " \n",
      "Estimated value for a:  -0.015564131784854574\n"
     ]
    }
   ],
   "source": [
    "### function - implementaion of maximum expected return\n",
    "### inputs:\n",
    "### a - value for alpha\n",
    "### n - value for eta\n",
    "### c - transaction costs\n",
    "### returns:\n",
    "### res - rseult for a using eq. (18)\n",
    "\n",
    "\n",
    "def mer(a,n,c):\n",
    "    var1 = -c/4\n",
    "    denom1 = (c**3*a**3) + (24*c*a**2*n**2)\n",
    "    denom2 = 4*(np.sqrt(((3*c**4*a**5*n**2) + (36*c**2*a**4*n**4))))\n",
    "    denom3 = 4 * ((denom1 - denom2)**(1/3))\n",
    "    var2 = (c**2*a) / denom3\n",
    "    numer1 = c**3*a**3 + (24*c*a**2*n**2)\n",
    "    numer2 = 4 * np.sqrt((3*c**4*a**5*n**2 + 36*c**2*a**4*n**4))\n",
    "    numer3 = ((numer1 - numer2))**(1/3)\n",
    "    var3 = numer3 / (4*a)\n",
    "    res = var1 - var2 - var3\n",
    "    return res\n",
    "\n",
    "print ('Test sample: ')\n",
    "print ('   Alpha:   ', AR_alpha)\n",
    "print ('   Eta:     ', AR_eta)\n",
    "t_c = 0.02\n",
    "print ('   Transaction Cost : ', t_c)\n",
    "a_param = mer(AR_alpha, AR_eta, t_c)\n",
    "print ('\\n \\nEstimated value for a: ', a_param)"
   ]
  },
  {
   "cell_type": "code",
   "execution_count": 47,
   "metadata": {},
   "outputs": [
    {
     "data": {
      "image/png": "[encoded data removed]",
      "text/plain": [
       "<Figure size 432x288 with 1 Axes>"
      ]
     },
     "metadata": {
      "needs_background": "light"
     },
     "output_type": "display_data"
    }
   ],
   "source": [
    "# Plot the spread versus entry and exit values, a & m\n",
    "\n",
    "df_spread_test = pd.DataFrame(df.orig)\n",
    "df_spread_test['a'] = a_param\n",
    "df_spread_test['m'] = a_param * -1\n",
    "df_spread_test.plot();"
   ]
  },
  {
   "cell_type": "code",
   "execution_count": 61,
   "metadata": {},
   "outputs": [],
   "source": [
    "### messy backtester function \n",
    "df['CO1_ret'] = np.log(df.CO1 / df.CO1.shift())\n",
    "df['CO2_ret'] = np.log(df.CO2 / df.CO2.shift())\n",
    "\n",
    "def backtest(df, t_c):\n",
    "    # create results dictionary\n",
    "    res_df = pd.DataFrame()\n",
    "    pnl_vectors = pd.DataFrame()\n",
    "    for tc in t_c:\n",
    "        res = {}\n",
    "        res['transaction cost'] = tc\n",
    "        #find a & m using maximum expected return formula\n",
    "        a = mer(AR_alpha, AR_eta, tc)\n",
    "        m = -a\n",
    "        #store result\n",
    "        res['Optimal Trade Entry (a)'] = a\n",
    "        #generate vecoried buy-sell signals \n",
    "        #buy when Xt <= a\n",
    "        df['bs'] = np.where(df.orig <= a, 1, 0)\n",
    "        #sell when Xt >= m \n",
    "        df['bs'] = np.where(df.orig >= m, -1, df.bs)\n",
    "        #fill neutral signals with previous buy/sell signal \n",
    "        df.bs = np.where(df.bs == 0 , df.bs.shift(-1), df.bs)\n",
    "        #find pnl\n",
    "        df['pnl'] = df.bs.shift(1) * df.CO1_ret - df.bs.shift(1) * df.CO2_ret\n",
    "        #store vetor in result dataframe\n",
    "        pnl_vectors['pnl_tc_' + str(tc)] = df.pnl\n",
    "        res['total return']= df.pnl.sum()\n",
    "        res['Sharpe'] = df.pnl.mean() / df.pnl.std() * np.sqrt(6*24*252) \n",
    "        trade_count = 0 \n",
    "        for i in range(1,len(df)):\n",
    "            if df.loc[i, 'bs'] != df.loc[i-1, 'bs']:\n",
    "                trade_count += 1\n",
    "        res['Trade_count'] = trade_count\n",
    "        res['avg hold period (hrs)'] = 2880 / trade_count \n",
    "        res_df = res_df.append(res, ignore_index = True)\n",
    "    return res_df, pnl_vectors\n",
    "        \n",
    "    \n",
    "bt_results, bt_vectors = backtest(df, [0.0001, 0.002, 0.02])"
   ]
  },
  {
   "cell_type": "code",
   "execution_count": 62,
   "metadata": {},
   "outputs": [
    {
     "name": "stdout",
     "output_type": "stream",
     "text": [
      "   Optimal Trade Entry (a)    Sharpe  Trade_count  avg hold period (hrs)  \\\n",
      "0                -0.000907  8.363331        668.0               4.311377   \n",
      "1                -0.003009  1.956293        797.0               3.613551   \n",
      "2                -0.015564 -0.252048        521.0               5.527831   \n",
      "\n",
      "   total return  transaction cost  \n",
      "0      1.352977            0.0001  \n",
      "1      0.308935            0.0020  \n",
      "2     -0.024477            0.0200  \n"
     ]
    }
   ],
   "source": [
    "print (bt_results)"
   ]
  },
  {
   "cell_type": "code",
   "execution_count": 63,
   "metadata": {},
   "outputs": [
    {
     "data": {
      "text/plain": [
       "<matplotlib.axes._subplots.AxesSubplot at 0x1f5cc0e5288>"
      ]
     },
     "execution_count": 63,
     "metadata": {},
     "output_type": "execute_result"
    },
    {
     "data": {
      "image/png": "[encoded data removed]",
      "text/plain": [
       "<Figure size 432x288 with 1 Axes>"
      ]
     },
     "metadata": {
      "needs_background": "light"
     },
     "output_type": "display_data"
    }
   ],
   "source": [
    "bt_vectors.cumsum().plot()"
   ]
  },
  {
   "cell_type": "markdown",
   "metadata": {},
   "source": [
    "### Maximum Sharpe ratio\n",
    "Similarly, an analytic formula can be maximised to find ${a}$ for an optimal Sharpe ratio using equation (20). Again, ${a} < 0$ and ${m} = -{a}$\n",
    "\n",
    "$$ {S}^*{({a},{c},{r}_{f})} = {\\frac{-(2{a}+{c}+{r}_{f}){\\sqrt{{\\alpha}{\\pi}Erfi{(\\frac{{a}{\\sqrt{\\alpha}}}{\\eta})}}}}{\\sqrt{{(2a + c)^2}{({w}_{1}(\\frac{{a}{\\sqrt{\\alpha}}}{\\eta}) + {w}_{2}(\\frac{{a}{\\sqrt{\\alpha}}}{\\eta}))}}}} $$\n",
    "\n",
    "Where, $ Erfi({x}) = iErfi(ix) $ is the imaginary error function \n",
    "\n",
    "and,\n",
    "\n",
    "$$ {w}_{1}({z})=(1/2 \\sum_{{k}=1}^\\infty \\Gamma ({k}/2) (\\sqrt{2}{z})^{k} / {k!})^2-(1/2 \\sum_{{k}=1}^\\infty (-1)^{k} \\Gamma ({k}/2) (\\sqrt{2}{z})^{k} /{k!})^2$$\n",
    "\n",
    "$$ {w}_{2}({z}) = \\sum_{{k}=1}^\\infty \\Gamma ((2{k} - 1)/2) \\Psi ((2{k} -1)/2) (\\sqrt{2} {z})^{(2k -1)} / (2k-1)! $$"
   ]
  },
  {
   "cell_type": "code",
   "execution_count": null,
   "metadata": {},
   "outputs": [],
   "source": []
  },
  {
   "cell_type": "code",
   "execution_count": null,
   "metadata": {},
   "outputs": [],
   "source": []
  },
  {
   "cell_type": "code",
   "execution_count": null,
   "metadata": {},
   "outputs": [],
   "source": []
  },
  {
   "cell_type": "code",
   "execution_count": null,
   "metadata": {},
   "outputs": [],
   "source": []
  },
  {
   "cell_type": "code",
   "execution_count": null,
   "metadata": {},
   "outputs": [],
   "source": []
  },
  {
   "cell_type": "markdown",
   "metadata": {},
   "source": [
    "$- \\frac{({c^3}{\\alpha^3} + 24{c}{\\alpha^2}{\\eta^2} -4{\\sqrt{3{c^4}{\\alpha^5}{\\eta^2} +36{c^2}{\\alpha^4}{\\eta^4}}})^{1/3}}{4{\\alpha}}$"
   ]
  },
  {
   "cell_type": "markdown",
   "metadata": {},
   "source": [
    "$${a} = -\\frac{c}{4} - \\frac{{c}^{2}{\\alpha}}{4({c^3}{\\alpha^3} + 24{c}{\\alpha^2}{\\eta^2} -4{\\sqrt{3{c^4}{\\alpha^5}{\\eta^2} + 36{c^2}{\\alpha^4}{\\eta}}})^{1/3}}- \\frac{({c^3}{\\alpha^3} + 24{c}{\\alpha^2}{\\eta^2} -4{\\sqrt{3{c^4}{\\alpha^5}{\\eta^2} +36{c^2}{\\alpha^4}{\\eta^4}}})^{1/3}}{4{\\alpha}}$$"
   ]
  },
  {
   "cell_type": "markdown",
   "metadata": {},
   "source": [
    "$\\frac{-(2{a}+{c}+{r}_{f}){\\sqrt{{\\alpha}{\\pi}Erfi{(\\frac{{a}{\\sqrt{\\alpha}}}{\\eta})}}}}{\\sqrt{{(2a + c)^2}{({w}_{1}(\\frac{{a}{\\sqrt{\\alpha}}}{\\eta}) + {w}_{2}(\\frac{{a}{\\sqrt{\\alpha}}}{\\eta}))}}}$"
   ]
  },
  {
   "cell_type": "markdown",
   "metadata": {},
   "source": [
    "$ {(\\frac{{a}{\\sqrt{\\alpha}}}{\\eta})}$"
   ]
  },
  {
   "cell_type": "code",
   "execution_count": null,
   "metadata": {},
   "outputs": [],
   "source": [
    "${4({c^3}{\\alpha^3} + 24{c}{\\alpha^2}{\\eta^2} -4{\\sqrt{3{c^4}{\\alpha^5}{\\eta^2} + 36{c^2}{\\alpha^4}{\\eta}}})^{1/3}}$"
   ]
  }
 ],
 "metadata": {
  "kernelspec": {
   "display_name": "Python 3",
   "language": "python",
   "name": "python3"
  },
  "language_info": {
   "codemirror_mode": {
    "name": "ipython",
    "version": 3
   },
   "file_extension": ".py",
   "mimetype": "text/x-python",
   "name": "python",
   "nbconvert_exporter": "python",
   "pygments_lexer": "ipython3",
   "version": "3.7.6"
  }
 },
 "nbformat": 4,
 "nbformat_minor": 4
}
