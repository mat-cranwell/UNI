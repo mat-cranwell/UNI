{
 "cells": [
  {
   "cell_type": "markdown",
   "metadata": {},
   "source": [
    "## Calibrating the Ornstein-Uhlenbeck (Vasicek) model"
   ]
  },
  {
   "cell_type": "markdown",
   "metadata": {},
   "source": [
    "\n",
    "### The OU Equation\n",
    "\n",
    "The stochastic differentialequation (SDE) for the Ornstein-Uhlenbeck process is given by:\n",
    "\n",
    "$$ {dS}_{t}= \\lambda(\\mu - {S}_{t}){dt} + \\sigma{dW}_{t}$$\n",
    "\n",
    "with $\\lambda$ the mean reversion rate, $\\mu$ the long-term mean, $\\sigma$ the volatility\n",
    "\n",
    "### Calibration using least squres regression \n",
    "\n",
    "The relationship between consecutive observation ${S}_{i}, {S}_{i+1}$ in linear with a iid normal random term $\\epsilon$:\n",
    "\n",
    "$$ {S}_{i+1} = {aS}_{i} + {b} + {\\epsilon}$$\n",
    "\n",
    "The relationship between the linear fit and model parameters is given by:\n",
    "\n",
    "$$ {a} = {e}^{{-\\lambda} {\\delta}} $$\n",
    "\n",
    "$$ {b} = {\\mu}(1- {e}^{{-\\lambda} {\\delta}}) $$\n",
    "\n",
    "$$ {sd}({\\epsilon}) = {\\sigma} \\sqrt{\\frac{1- {e}^{{-2\\lambda} {\\delta}}}{2\\lambda}} $$\n",
    "\n",
    "rewriting these equations gives,\n",
    "\n",
    "$$ \\lambda = - \\frac{\\ln{a}}{\\delta} $$\n",
    "\n",
    "$$ \\mu = \\frac{b}{1-a}$$\n",
    "\n",
    "$$ \\sigma = {sd}(\\epsilon) \\sqrt{\\frac{-2\\ln{a}}{\\delta(1-a^2)}} $$\n",
    "\n",
    "[source](https://www.statisticshowto.com/wp-content/uploads/2016/01/Calibrating-the-Ornstein.pdf) "
   ]
  },
  {
   "cell_type": "code",
   "execution_count": 3,
   "metadata": {},
   "outputs": [],
   "source": [
    "import pandas as pd \n",
    "\n",
    "df = pd.read_csv('sample_set.csv')"
   ]
  },
  {
   "cell_type": "code",
   "execution_count": 4,
   "metadata": {},
   "outputs": [
    {
     "name": "stdout",
     "output_type": "stream",
     "text": [
      "                            OLS Regression Results                            \n",
      "==============================================================================\n",
      "Dep. Variable:                   orig   R-squared:                       0.905\n",
      "Model:                            OLS   Adj. R-squared:                  0.905\n",
      "Method:                 Least Squares   F-statistic:                 1.042e+05\n",
      "Date:                Mon, 25 Jan 2021   Prob (F-statistic):               0.00\n",
      "Time:                        09:59:57   Log-Likelihood:                 48802.\n",
      "No. Observations:               10934   AIC:                        -9.760e+04\n",
      "Df Residuals:                   10932   BIC:                        -9.759e+04\n",
      "Df Model:                           1                                         \n",
      "Covariance Type:            nonrobust                                         \n",
      "==============================================================================\n",
      "                 coef    std err          t      P>|t|      [0.025      0.975]\n",
      "------------------------------------------------------------------------------\n",
      "const         -0.0003   3.41e-05    -10.231      0.000      -0.000      -0.000\n",
      "t1             0.9515      0.003    322.855      0.000       0.946       0.957\n",
      "==============================================================================\n",
      "Omnibus:                     1407.574   Durbin-Watson:                   1.973\n",
      "Prob(Omnibus):                  0.000   Jarque-Bera (JB):            17141.238\n",
      "Skew:                          -0.062   Prob(JB):                         0.00\n",
      "Kurtosis:                       9.133   Cond. No.                         111.\n",
      "==============================================================================\n",
      "\n",
      "Warnings:\n",
      "[1] Standard Errors assume that the covariance matrix of the errors is correctly specified.\n"
     ]
    },
    {
     "name": "stderr",
     "output_type": "stream",
     "text": [
      "c:\\users\\mat\\appdata\\local\\programs\\python\\python37-32\\lib\\site-packages\\numpy\\core\\fromnumeric.py:2580: FutureWarning: Method .ptp is deprecated and will be removed in a future version. Use numpy.ptp instead.\n",
      "  return ptp(axis=axis, out=out, **kwargs)\n"
     ]
    }
   ],
   "source": [
    "import statsmodels.api as sm\n",
    "X = df['t1']\n",
    "y = df['orig']\n",
    "X = sm.add_constant(X)\n",
    "results = sm.OLS(y,X).fit()\n",
    "print (results.summary())"
   ]
  },
  {
   "cell_type": "code",
   "execution_count": 9,
   "metadata": {},
   "outputs": [],
   "source": [
    "def OU_calibration(df, spread):\n",
    "    A = spread[0]\n",
    "    B = spread[1]\n",
    "    df['spread'] = np.log((df[A] / df[B]))\n",
    "    df['shift'] = df.spread.shift()\n",
    "    df.loc[0, 'shift'] = 0\n",
    "    X = df['shift']\n",
    "    y = df['spread']\n",
    "    X = sm.add_constant(X)\n",
    "    results = sm.OLS(y,X).fit()\n",
    "    order = A, B\n",
    "    \n",
    "    if results.params[0] < 0:\n",
    "        df['spread'] = np.log((df[B] / df[A]))\n",
    "        df['shift'] = df.spread.shift()\n",
    "        df.loc[0, 'shift'] = 0\n",
    "        X = df['shift']\n",
    "        y = df['spread']\n",
    "        X = sm.add_constant(X)\n",
    "        results = sm.OLS(y,X).fit()\n",
    "        order = B, A\n",
    "        \n",
    "    \n",
    "    return results.params[0], results.params[1], results.bse[1], order"
   ]
  },
  {
   "cell_type": "code",
   "execution_count": 10,
   "metadata": {},
   "outputs": [
    {
     "data": {
      "text/plain": [
       "(0.00035012565107297875,\n",
       " 0.9513944476006523,\n",
       " 0.0029479606003722,\n",
       " ('CO2', 'CO1'))"
      ]
     },
     "execution_count": 10,
     "metadata": {},
     "output_type": "execute_result"
    }
   ],
   "source": [
    "OU_calibration(df, 'CO1', 'CO2')\n"
   ]
  },
  {
   "cell_type": "code",
   "execution_count": 11,
   "metadata": {},
   "outputs": [
    {
     "data": {
      "text/html": [
       "<table class=\"simpletable\">\n",
       "<caption>OLS Regression Results</caption>\n",
       "<tr>\n",
       "  <th>Dep. Variable:</th>          <td>orig</td>       <th>  R-squared:         </th>  <td>   0.905</td> \n",
       "</tr>\n",
       "<tr>\n",
       "  <th>Model:</th>                   <td>OLS</td>       <th>  Adj. R-squared:    </th>  <td>   0.905</td> \n",
       "</tr>\n",
       "<tr>\n",
       "  <th>Method:</th>             <td>Least Squares</td>  <th>  F-statistic:       </th>  <td>1.042e+05</td>\n",
       "</tr>\n",
       "<tr>\n",
       "  <th>Date:</th>             <td>Mon, 25 Jan 2021</td> <th>  Prob (F-statistic):</th>   <td>  0.00</td>  \n",
       "</tr>\n",
       "<tr>\n",
       "  <th>Time:</th>                 <td>14:35:03</td>     <th>  Log-Likelihood:    </th>  <td>  48802.</td> \n",
       "</tr>\n",
       "<tr>\n",
       "  <th>No. Observations:</th>      <td> 10934</td>      <th>  AIC:               </th> <td>-9.760e+04</td>\n",
       "</tr>\n",
       "<tr>\n",
       "  <th>Df Residuals:</th>          <td> 10932</td>      <th>  BIC:               </th> <td>-9.759e+04</td>\n",
       "</tr>\n",
       "<tr>\n",
       "  <th>Df Model:</th>              <td>     1</td>      <th>                     </th>      <td> </td>    \n",
       "</tr>\n",
       "<tr>\n",
       "  <th>Covariance Type:</th>      <td>nonrobust</td>    <th>                     </th>      <td> </td>    \n",
       "</tr>\n",
       "</table>\n",
       "<table class=\"simpletable\">\n",
       "<tr>\n",
       "    <td></td>       <th>coef</th>     <th>std err</th>      <th>t</th>      <th>P>|t|</th>  <th>[0.025</th>    <th>0.975]</th>  \n",
       "</tr>\n",
       "<tr>\n",
       "  <th>const</th> <td>   -0.0003</td> <td> 3.41e-05</td> <td>  -10.231</td> <td> 0.000</td> <td>   -0.000</td> <td>   -0.000</td>\n",
       "</tr>\n",
       "<tr>\n",
       "  <th>t1</th>    <td>    0.9515</td> <td>    0.003</td> <td>  322.855</td> <td> 0.000</td> <td>    0.946</td> <td>    0.957</td>\n",
       "</tr>\n",
       "</table>\n",
       "<table class=\"simpletable\">\n",
       "<tr>\n",
       "  <th>Omnibus:</th>       <td>1407.574</td> <th>  Durbin-Watson:     </th> <td>   1.973</td> \n",
       "</tr>\n",
       "<tr>\n",
       "  <th>Prob(Omnibus):</th>  <td> 0.000</td>  <th>  Jarque-Bera (JB):  </th> <td>17141.238</td>\n",
       "</tr>\n",
       "<tr>\n",
       "  <th>Skew:</th>           <td>-0.062</td>  <th>  Prob(JB):          </th> <td>    0.00</td> \n",
       "</tr>\n",
       "<tr>\n",
       "  <th>Kurtosis:</th>       <td> 9.133</td>  <th>  Cond. No.          </th> <td>    111.</td> \n",
       "</tr>\n",
       "</table><br/><br/>Warnings:<br/>[1] Standard Errors assume that the covariance matrix of the errors is correctly specified."
      ],
      "text/plain": [
       "<class 'statsmodels.iolib.summary.Summary'>\n",
       "\"\"\"\n",
       "                            OLS Regression Results                            \n",
       "==============================================================================\n",
       "Dep. Variable:                   orig   R-squared:                       0.905\n",
       "Model:                            OLS   Adj. R-squared:                  0.905\n",
       "Method:                 Least Squares   F-statistic:                 1.042e+05\n",
       "Date:                Mon, 25 Jan 2021   Prob (F-statistic):               0.00\n",
       "Time:                        14:35:03   Log-Likelihood:                 48802.\n",
       "No. Observations:               10934   AIC:                        -9.760e+04\n",
       "Df Residuals:                   10932   BIC:                        -9.759e+04\n",
       "Df Model:                           1                                         \n",
       "Covariance Type:            nonrobust                                         \n",
       "==============================================================================\n",
       "                 coef    std err          t      P>|t|      [0.025      0.975]\n",
       "------------------------------------------------------------------------------\n",
       "const         -0.0003   3.41e-05    -10.231      0.000      -0.000      -0.000\n",
       "t1             0.9515      0.003    322.855      0.000       0.946       0.957\n",
       "==============================================================================\n",
       "Omnibus:                     1407.574   Durbin-Watson:                   1.973\n",
       "Prob(Omnibus):                  0.000   Jarque-Bera (JB):            17141.238\n",
       "Skew:                          -0.062   Prob(JB):                         0.00\n",
       "Kurtosis:                       9.133   Cond. No.                         111.\n",
       "==============================================================================\n",
       "\n",
       "Warnings:\n",
       "[1] Standard Errors assume that the covariance matrix of the errors is correctly specified.\n",
       "\"\"\""
      ]
     },
     "execution_count": 11,
     "metadata": {},
     "output_type": "execute_result"
    }
   ],
   "source": [
    "results.summary()"
   ]
  },
  {
   "cell_type": "code",
   "execution_count": 13,
   "metadata": {},
   "outputs": [
    {
     "data": {
      "text/plain": [
       "0.9514566855487407"
      ]
     },
     "execution_count": 13,
     "metadata": {},
     "output_type": "execute_result"
    }
   ],
   "source": [
    "results.params[1]"
   ]
  },
  {
   "cell_type": "code",
   "execution_count": null,
   "metadata": {},
   "outputs": [],
   "source": []
  }
 ],
 "metadata": {
  "kernelspec": {
   "display_name": "Python 3",
   "language": "python",
   "name": "python3"
  },
  "language_info": {
   "codemirror_mode": {
    "name": "ipython",
    "version": 3
   },
   "file_extension": ".py",
   "mimetype": "text/x-python",
   "name": "python",
   "nbconvert_exporter": "python",
   "pygments_lexer": "ipython3",
   "version": "3.7.3"
  }
 },
 "nbformat": 4,
 "nbformat_minor": 2
}
