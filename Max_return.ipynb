{
 "cells": [
  {
   "cell_type": "code",
   "execution_count": 8,
   "metadata": {},
   "outputs": [],
   "source": [
    "import numpy as np\n",
    "def max_expected_return(a,n,c):\n",
    "    \n",
    "    var = (-c/4) \n",
    "    -(((c**2)*a)/ (4*((c**3 * a**3 + 24*c*a**2*n**2 - 4*np.sqrt(3*c**4*a**5*n**2+ 36*c**2*a**4*n**4))**(1/3))))\n",
    "    var2 = (((c**3*a**3 + 24*c*a**2*n**2 - 4*((np.sqrt(3*c**4*a**5*n**2 + 36*c**2*a**4*n**4)))))**(1/3))/4*a\n",
    "    res = var - var2\n",
    "    return res "
   ]
  },
  {
   "cell_type": "code",
   "execution_count": 2,
   "metadata": {},
   "outputs": [
    {
     "data": {
      "text/plain": [
       "64"
      ]
     },
     "execution_count": 2,
     "metadata": {},
     "output_type": "execute_result"
    }
   ],
   "source": [
    "2**3 * 2**3"
   ]
  },
  {
   "cell_type": "code",
   "execution_count": 3,
   "metadata": {},
   "outputs": [
    {
     "data": {
      "text/plain": [
       "64"
      ]
     },
     "execution_count": 3,
     "metadata": {},
     "output_type": "execute_result"
    }
   ],
   "source": [
    "(2**3)*(2**3)"
   ]
  },
  {
   "cell_type": "code",
   "execution_count": 4,
   "metadata": {},
   "outputs": [
    {
     "data": {
      "text/plain": [
       "32"
      ]
     },
     "execution_count": 4,
     "metadata": {},
     "output_type": "execute_result"
    }
   ],
   "source": [
    "2*2**2*2**2"
   ]
  },
  {
   "cell_type": "code",
   "execution_count": 10,
   "metadata": {},
   "outputs": [
    {
     "data": {
      "text/plain": [
       "-39.59272238934293"
      ]
     },
     "execution_count": 10,
     "metadata": {},
     "output_type": "execute_result"
    }
   ],
   "source": [
    "max_expected_return(180.9670, 0.1538, 0.015)"
   ]
  },
  {
   "cell_type": "code",
   "execution_count": 11,
   "metadata": {},
   "outputs": [],
   "source": [
    "def mer(a,n,c):\n",
    "    var1 = -c/4\n",
    "    denom1 = (c**3*a**3) + (24*c*a**2*n**2)\n",
    "    denom2 = 4*(np.sqrt(((3*c**4*a**5*n**2) + (36*c**2*a**4*n**4))))\n",
    "    denom3 = 4 * ((denom1 - denom2)**(1/3))\n",
    "    var2 = (c**2*a) / denom3\n",
    "    numer1 = c**3*a**3 + (24*c*a**2*n**2)\n",
    "    numer2 = 4 * np.sqrt((3*c**4*a**5*n**2 + 36*c**2*a**4*n**4))\n",
    "    numer3 = ((numer1 - numer2))**(1/3)\n",
    "    var3 = numer3 / (4*a)\n",
    "    res = var1 - var2 - var3\n",
    "    return res"
   ]
  },
  {
   "cell_type": "code",
   "execution_count": 13,
   "metadata": {},
   "outputs": [
    {
     "data": {
      "text/plain": [
       "-0.00487500478007779"
      ]
     },
     "execution_count": 13,
     "metadata": {},
     "output_type": "execute_result"
    }
   ],
   "source": [
    "mer(180.967, 0.1538, 0.001)"
   ]
  },
  {
   "cell_type": "code",
   "execution_count": 14,
   "metadata": {},
   "outputs": [
    {
     "data": {
      "text/html": [
       "<div>\n",
       "<style scoped>\n",
       "    .dataframe tbody tr th:only-of-type {\n",
       "        vertical-align: middle;\n",
       "    }\n",
       "\n",
       "    .dataframe tbody tr th {\n",
       "        vertical-align: top;\n",
       "    }\n",
       "\n",
       "    .dataframe thead th {\n",
       "        text-align: right;\n",
       "    }\n",
       "</style>\n",
       "<table border=\"1\" class=\"dataframe\">\n",
       "  <thead>\n",
       "    <tr style=\"text-align: right;\">\n",
       "      <th></th>\n",
       "      <th>CO1</th>\n",
       "      <th>CO2</th>\n",
       "      <th>orig</th>\n",
       "      <th>t1</th>\n",
       "    </tr>\n",
       "  </thead>\n",
       "  <tbody>\n",
       "    <tr>\n",
       "      <th>0</th>\n",
       "      <td>45.68</td>\n",
       "      <td>46.05</td>\n",
       "      <td>-0.008067</td>\n",
       "      <td>-0.008067</td>\n",
       "    </tr>\n",
       "    <tr>\n",
       "      <th>1</th>\n",
       "      <td>45.57</td>\n",
       "      <td>45.95</td>\n",
       "      <td>-0.008304</td>\n",
       "      <td>-0.008067</td>\n",
       "    </tr>\n",
       "    <tr>\n",
       "      <th>2</th>\n",
       "      <td>45.59</td>\n",
       "      <td>45.96</td>\n",
       "      <td>-0.008083</td>\n",
       "      <td>-0.008304</td>\n",
       "    </tr>\n",
       "    <tr>\n",
       "      <th>3</th>\n",
       "      <td>45.57</td>\n",
       "      <td>45.96</td>\n",
       "      <td>-0.008522</td>\n",
       "      <td>-0.008083</td>\n",
       "    </tr>\n",
       "    <tr>\n",
       "      <th>4</th>\n",
       "      <td>45.58</td>\n",
       "      <td>45.97</td>\n",
       "      <td>-0.008520</td>\n",
       "      <td>-0.008522</td>\n",
       "    </tr>\n",
       "    <tr>\n",
       "      <th>...</th>\n",
       "      <td>...</td>\n",
       "      <td>...</td>\n",
       "      <td>...</td>\n",
       "      <td>...</td>\n",
       "    </tr>\n",
       "    <tr>\n",
       "      <th>10929</th>\n",
       "      <td>51.77</td>\n",
       "      <td>51.45</td>\n",
       "      <td>0.006200</td>\n",
       "      <td>0.005036</td>\n",
       "    </tr>\n",
       "    <tr>\n",
       "      <th>10930</th>\n",
       "      <td>51.79</td>\n",
       "      <td>51.43</td>\n",
       "      <td>0.006975</td>\n",
       "      <td>0.006200</td>\n",
       "    </tr>\n",
       "    <tr>\n",
       "      <th>10931</th>\n",
       "      <td>51.84</td>\n",
       "      <td>51.33</td>\n",
       "      <td>0.009887</td>\n",
       "      <td>0.006975</td>\n",
       "    </tr>\n",
       "    <tr>\n",
       "      <th>10932</th>\n",
       "      <td>51.66</td>\n",
       "      <td>51.23</td>\n",
       "      <td>0.008358</td>\n",
       "      <td>0.009887</td>\n",
       "    </tr>\n",
       "    <tr>\n",
       "      <th>10933</th>\n",
       "      <td>51.53</td>\n",
       "      <td>51.19</td>\n",
       "      <td>0.006620</td>\n",
       "      <td>0.008358</td>\n",
       "    </tr>\n",
       "  </tbody>\n",
       "</table>\n",
       "<p>10934 rows × 4 columns</p>\n",
       "</div>"
      ],
      "text/plain": [
       "         CO1    CO2      orig        t1\n",
       "0      45.68  46.05 -0.008067 -0.008067\n",
       "1      45.57  45.95 -0.008304 -0.008067\n",
       "2      45.59  45.96 -0.008083 -0.008304\n",
       "3      45.57  45.96 -0.008522 -0.008083\n",
       "4      45.58  45.97 -0.008520 -0.008522\n",
       "...      ...    ...       ...       ...\n",
       "10929  51.77  51.45  0.006200  0.005036\n",
       "10930  51.79  51.43  0.006975  0.006200\n",
       "10931  51.84  51.33  0.009887  0.006975\n",
       "10932  51.66  51.23  0.008358  0.009887\n",
       "10933  51.53  51.19  0.006620  0.008358\n",
       "\n",
       "[10934 rows x 4 columns]"
      ]
     },
     "execution_count": 14,
     "metadata": {},
     "output_type": "execute_result"
    }
   ],
   "source": [
    "import pandas as pd\n",
    "df = pd.read_csv('Sample_set.csv')\n",
    "df"
   ]
  },
  {
   "cell_type": "code",
   "execution_count": 15,
   "metadata": {},
   "outputs": [],
   "source": [
    "from sklearn.linear_model import LinearRegression"
   ]
  },
  {
   "cell_type": "code",
   "execution_count": 24,
   "metadata": {},
   "outputs": [],
   "source": [
    "y = np.array(df.orig)\n",
    "x = np.array(df.t1)\n",
    "\n",
    "t = int(0.9 *len(df))\n",
    "X_train = x[:t]\n",
    "Y_train = y[:t]\n",
    "X_test = x[t:]\n",
    "Y_test = y[t:]"
   ]
  },
  {
   "cell_type": "code",
   "execution_count": 221,
   "metadata": {},
   "outputs": [
    {
     "name": "stdout",
     "output_type": "stream",
     "text": [
      "coef1:  0.95146\n",
      "intercept:  -0.00035\n",
      "LinearRegression(copy_X=True, fit_intercept=True, n_jobs=None, normalize=False)\n"
     ]
    }
   ],
   "source": [
    "linear = LinearRegression().fit(x.reshape(-1,1), y)\n",
    "\n",
    "print (\"coef1: \", round(linear.coef_[0],5))\n",
    "print (\"intercept: \", round(linear.intercept_,5))\n",
    "print (linear)"
   ]
  },
  {
   "cell_type": "code",
   "execution_count": 30,
   "metadata": {},
   "outputs": [],
   "source": [
    "a = mer(0.95146, -0.00035, 0.001)\n",
    "m = -a"
   ]
  },
  {
   "cell_type": "code",
   "execution_count": 32,
   "metadata": {},
   "outputs": [],
   "source": [
    "df['bs'] = np.where(df.orig <= a, 1, 0)\n",
    "df['bs'] = np.where(df.orig >= m, -1, df.bs)"
   ]
  },
  {
   "cell_type": "code",
   "execution_count": 75,
   "metadata": {},
   "outputs": [
    {
     "data": {
      "text/plain": [
       "<matplotlib.axes._subplots.AxesSubplot at 0x20aeb1a9f48>"
      ]
     },
     "execution_count": 75,
     "metadata": {},
     "output_type": "execute_result"
    },
    {
     "data": {
      "image/png": "[encoded data removed]",
      "text/plain": [
       "<Figure size 432x288 with 1 Axes>"
      ]
     },
     "metadata": {
      "needs_background": "light"
     },
     "output_type": "display_data"
    }
   ],
   "source": [
    "df.bs.plot()"
   ]
  },
  {
   "cell_type": "code",
   "execution_count": 76,
   "metadata": {},
   "outputs": [],
   "source": [
    "df.bs = np.where(df.bs == 0 , df.bs.shift(-1), df.bs)"
   ]
  },
  {
   "cell_type": "code",
   "execution_count": 77,
   "metadata": {},
   "outputs": [
    {
     "data": {
      "text/plain": [
       "<matplotlib.axes._subplots.AxesSubplot at 0x20aeb21aec8>"
      ]
     },
     "execution_count": 77,
     "metadata": {},
     "output_type": "execute_result"
    },
    {
     "data": {
      "image/png": "[encoded data removed]",
      "text/plain": [
       "<Figure size 432x288 with 1 Axes>"
      ]
     },
     "metadata": {
      "needs_background": "light"
     },
     "output_type": "display_data"
    }
   ],
   "source": [
    "df.bs.plot()"
   ]
  },
  {
   "cell_type": "code",
   "execution_count": 41,
   "metadata": {},
   "outputs": [],
   "source": [
    "df['CO1_ret'] = np.log(df.CO1 / df.CO1.shift())\n",
    "df['CO2_ret'] = np.log(df.CO2 / df.CO2.shift())"
   ]
  },
  {
   "cell_type": "code",
   "execution_count": 78,
   "metadata": {},
   "outputs": [],
   "source": [
    "df['pnl'] = df.bs.shift(1) * df.CO1_ret - df.bs.shift(1) * df.CO2_ret"
   ]
  },
  {
   "cell_type": "code",
   "execution_count": 79,
   "metadata": {},
   "outputs": [
    {
     "data": {
      "text/plain": [
       "<matplotlib.axes._subplots.AxesSubplot at 0x20ae8643b48>"
      ]
     },
     "execution_count": 79,
     "metadata": {},
     "output_type": "execute_result"
    },
    {
     "data": {
      "image/png": "[encoded data removed]",
      "text/plain": [
       "<Figure size 432x288 with 1 Axes>"
      ]
     },
     "metadata": {
      "needs_background": "light"
     },
     "output_type": "display_data"
    }
   ],
   "source": [
    "df.pnl.cumsum().plot()"
   ]
  },
  {
   "cell_type": "code",
   "execution_count": 170,
   "metadata": {},
   "outputs": [],
   "source": [
    "t_cost = (0.000001, 0.0001, 0.001, 0.002, 0.004, 0.006, 0.01)\n",
    "res = []\n",
    "for i in t_cost:\n",
    "    res.append(mer(180.967, 0.1538, i))"
   ]
  },
  {
   "cell_type": "code",
   "execution_count": 196,
   "metadata": {},
   "outputs": [
    {
     "data": {
      "text/plain": [
       "Text(0, 0.5, 'Enrty Threshold (a)')"
      ]
     },
     "execution_count": 196,
     "metadata": {},
     "output_type": "execute_result"
    },
    {
     "data": {
      "image/png": "[encoded data removed]",
      "text/plain": [
       "<Figure size 432x288 with 1 Axes>"
      ]
     },
     "metadata": {
      "needs_background": "light"
     },
     "output_type": "display_data"
    }
   ],
   "source": [
    "import matplotlib.pyplot as plt\n",
    "plt.plot(t_cost, res)\n",
    "plt.title('Optimal Entry Threshold vs. Transaction Costs')\n",
    "plt.xlabel('T. costs')\n",
    "plt.ylabel('Enrty Threshold (a)')"
   ]
  },
  {
   "cell_type": "code",
   "execution_count": 74,
   "metadata": {},
   "outputs": [
    {
     "data": {
      "text/plain": [
       "<matplotlib.axes._subplots.AxesSubplot at 0x20aea17dbc8>"
      ]
     },
     "execution_count": 74,
     "metadata": {},
     "output_type": "execute_result"
    },
    {
     "data": {
      "image/png": "[encoded data removed]",
      "text/plain": [
       "<Figure size 432x288 with 1 Axes>"
      ]
     },
     "metadata": {
      "needs_background": "light"
     },
     "output_type": "display_data"
    }
   ],
   "source": [
    "df.orig[8000:10000].plot()"
   ]
  },
  {
   "cell_type": "code",
   "execution_count": 94,
   "metadata": {},
   "outputs": [
    {
     "data": {
      "text/html": [
       "<div>\n",
       "<style scoped>\n",
       "    .dataframe tbody tr th:only-of-type {\n",
       "        vertical-align: middle;\n",
       "    }\n",
       "\n",
       "    .dataframe tbody tr th {\n",
       "        vertical-align: top;\n",
       "    }\n",
       "\n",
       "    .dataframe thead th {\n",
       "        text-align: right;\n",
       "    }\n",
       "</style>\n",
       "<table border=\"1\" class=\"dataframe\">\n",
       "  <thead>\n",
       "    <tr style=\"text-align: right;\">\n",
       "      <th></th>\n",
       "      <th>CO1</th>\n",
       "      <th>CO2</th>\n",
       "      <th>orig</th>\n",
       "      <th>t1</th>\n",
       "      <th>bs</th>\n",
       "      <th>pnl</th>\n",
       "      <th>CO1_ret</th>\n",
       "      <th>CO2_ret</th>\n",
       "    </tr>\n",
       "  </thead>\n",
       "  <tbody>\n",
       "    <tr>\n",
       "      <th>0</th>\n",
       "      <td>45.68</td>\n",
       "      <td>46.05</td>\n",
       "      <td>-0.008067</td>\n",
       "      <td>-0.008067</td>\n",
       "      <td>1.0</td>\n",
       "      <td>NaN</td>\n",
       "      <td>NaN</td>\n",
       "      <td>NaN</td>\n",
       "    </tr>\n",
       "    <tr>\n",
       "      <th>1</th>\n",
       "      <td>45.57</td>\n",
       "      <td>45.95</td>\n",
       "      <td>-0.008304</td>\n",
       "      <td>-0.008067</td>\n",
       "      <td>1.0</td>\n",
       "      <td>-0.000237</td>\n",
       "      <td>-0.002411</td>\n",
       "      <td>-0.002174</td>\n",
       "    </tr>\n",
       "    <tr>\n",
       "      <th>2</th>\n",
       "      <td>45.59</td>\n",
       "      <td>45.96</td>\n",
       "      <td>-0.008083</td>\n",
       "      <td>-0.008304</td>\n",
       "      <td>1.0</td>\n",
       "      <td>0.000221</td>\n",
       "      <td>0.000439</td>\n",
       "      <td>0.000218</td>\n",
       "    </tr>\n",
       "    <tr>\n",
       "      <th>3</th>\n",
       "      <td>45.57</td>\n",
       "      <td>45.96</td>\n",
       "      <td>-0.008522</td>\n",
       "      <td>-0.008083</td>\n",
       "      <td>1.0</td>\n",
       "      <td>-0.000439</td>\n",
       "      <td>-0.000439</td>\n",
       "      <td>0.000000</td>\n",
       "    </tr>\n",
       "    <tr>\n",
       "      <th>4</th>\n",
       "      <td>45.58</td>\n",
       "      <td>45.97</td>\n",
       "      <td>-0.008520</td>\n",
       "      <td>-0.008522</td>\n",
       "      <td>1.0</td>\n",
       "      <td>0.000002</td>\n",
       "      <td>0.000219</td>\n",
       "      <td>0.000218</td>\n",
       "    </tr>\n",
       "    <tr>\n",
       "      <th>...</th>\n",
       "      <td>...</td>\n",
       "      <td>...</td>\n",
       "      <td>...</td>\n",
       "      <td>...</td>\n",
       "      <td>...</td>\n",
       "      <td>...</td>\n",
       "      <td>...</td>\n",
       "      <td>...</td>\n",
       "    </tr>\n",
       "    <tr>\n",
       "      <th>10929</th>\n",
       "      <td>51.77</td>\n",
       "      <td>51.45</td>\n",
       "      <td>0.006200</td>\n",
       "      <td>0.005036</td>\n",
       "      <td>-1.0</td>\n",
       "      <td>-0.001165</td>\n",
       "      <td>0.000193</td>\n",
       "      <td>-0.000971</td>\n",
       "    </tr>\n",
       "    <tr>\n",
       "      <th>10930</th>\n",
       "      <td>51.79</td>\n",
       "      <td>51.43</td>\n",
       "      <td>0.006975</td>\n",
       "      <td>0.006200</td>\n",
       "      <td>-1.0</td>\n",
       "      <td>-0.000775</td>\n",
       "      <td>0.000386</td>\n",
       "      <td>-0.000389</td>\n",
       "    </tr>\n",
       "    <tr>\n",
       "      <th>10931</th>\n",
       "      <td>51.84</td>\n",
       "      <td>51.33</td>\n",
       "      <td>0.009887</td>\n",
       "      <td>0.006975</td>\n",
       "      <td>-1.0</td>\n",
       "      <td>-0.002911</td>\n",
       "      <td>0.000965</td>\n",
       "      <td>-0.001946</td>\n",
       "    </tr>\n",
       "    <tr>\n",
       "      <th>10932</th>\n",
       "      <td>51.66</td>\n",
       "      <td>51.23</td>\n",
       "      <td>0.008358</td>\n",
       "      <td>0.009887</td>\n",
       "      <td>-1.0</td>\n",
       "      <td>0.001528</td>\n",
       "      <td>-0.003478</td>\n",
       "      <td>-0.001950</td>\n",
       "    </tr>\n",
       "    <tr>\n",
       "      <th>10933</th>\n",
       "      <td>51.53</td>\n",
       "      <td>51.19</td>\n",
       "      <td>0.006620</td>\n",
       "      <td>0.008358</td>\n",
       "      <td>-1.0</td>\n",
       "      <td>0.001739</td>\n",
       "      <td>-0.002520</td>\n",
       "      <td>-0.000781</td>\n",
       "    </tr>\n",
       "  </tbody>\n",
       "</table>\n",
       "<p>10934 rows × 8 columns</p>\n",
       "</div>"
      ],
      "text/plain": [
       "         CO1    CO2      orig        t1   bs       pnl   CO1_ret   CO2_ret\n",
       "0      45.68  46.05 -0.008067 -0.008067  1.0       NaN       NaN       NaN\n",
       "1      45.57  45.95 -0.008304 -0.008067  1.0 -0.000237 -0.002411 -0.002174\n",
       "2      45.59  45.96 -0.008083 -0.008304  1.0  0.000221  0.000439  0.000218\n",
       "3      45.57  45.96 -0.008522 -0.008083  1.0 -0.000439 -0.000439  0.000000\n",
       "4      45.58  45.97 -0.008520 -0.008522  1.0  0.000002  0.000219  0.000218\n",
       "...      ...    ...       ...       ...  ...       ...       ...       ...\n",
       "10929  51.77  51.45  0.006200  0.005036 -1.0 -0.001165  0.000193 -0.000971\n",
       "10930  51.79  51.43  0.006975  0.006200 -1.0 -0.000775  0.000386 -0.000389\n",
       "10931  51.84  51.33  0.009887  0.006975 -1.0 -0.002911  0.000965 -0.001946\n",
       "10932  51.66  51.23  0.008358  0.009887 -1.0  0.001528 -0.003478 -0.001950\n",
       "10933  51.53  51.19  0.006620  0.008358 -1.0  0.001739 -0.002520 -0.000781\n",
       "\n",
       "[10934 rows x 8 columns]"
      ]
     },
     "execution_count": 94,
     "metadata": {},
     "output_type": "execute_result"
    }
   ],
   "source": [
    "df"
   ]
  },
  {
   "cell_type": "code",
   "execution_count": 108,
   "metadata": {},
   "outputs": [
    {
     "data": {
      "text/plain": [
       "664"
      ]
     },
     "execution_count": 108,
     "metadata": {},
     "output_type": "execute_result"
    }
   ],
   "source": [
    "trade_count = 0 \n",
    "for i in range(1,len(df)):\n",
    "    if df.loc[i, 'bs'] != df.loc[i-1, 'bs']:\n",
    "        trade_count += 1\n",
    "trade_count"
   ]
  },
  {
   "cell_type": "code",
   "execution_count": 134,
   "metadata": {},
   "outputs": [
    {
     "data": {
      "text/plain": [
       "4.052692606002878e-06"
      ]
     },
     "execution_count": 134,
     "metadata": {},
     "output_type": "execute_result"
    }
   ],
   "source": [
    "df.pnl.mean()"
   ]
  },
  {
   "cell_type": "code",
   "execution_count": 161,
   "metadata": {},
   "outputs": [],
   "source": [
    "def backtest(df, t_c):\n",
    "    # create results dictionary\n",
    "    res_df = pd.DataFrame()\n",
    "    pnl_vectors = pd.DataFrame()\n",
    "    for tc in t_c:\n",
    "        res = {}\n",
    "        res['transaction cost'] = tc\n",
    "        #find a & m using maximum expected return formula\n",
    "        a = mer(0.95146, -0.00035, tc)\n",
    "        m = -a\n",
    "        #store result\n",
    "        res['Optimal Trade Entry (a)'] = a\n",
    "        #generate vecoried buy-sell signals \n",
    "        #buy when Xt <= a\n",
    "        df['bs'] = np.where(df.orig <= a, 1, 0)\n",
    "        #sell when Xt >= m \n",
    "        df['bs'] = np.where(df.orig >= m, -1, df.bs)\n",
    "        #fill neutral signals with previous buy/sell signal \n",
    "        df.bs = np.where(df.bs == 0 , df.bs.shift(-1), df.bs)\n",
    "        #find pnl\n",
    "        df['pnl'] = df.bs.shift(1) * df.CO1_ret - df.bs.shift(1) * df.CO2_ret\n",
    "        #store vetor in result dataframe\n",
    "        pnl_vectors['pnl_tc_' + str(tc)] = df.pnl\n",
    "        res['total return']= df.pnl.sum()\n",
    "        res['Sharpe'] = df.pnl.mean() / df.pnl.std() * np.sqrt(6*24*252) \n",
    "        trade_count = 0 \n",
    "        for i in range(1,len(df)):\n",
    "            if df.loc[i, 'bs'] != df.loc[i-1, 'bs']:\n",
    "                trade_count += 1\n",
    "        res['Trade_count'] = trade_count\n",
    "        res['avg hold period (hrs)'] = 2880 / trade_count \n",
    "        res_df = res_df.append(res, ignore_index = True)\n",
    "    return res_df, pnl_vectors\n",
    "        \n",
    "        \n",
    "        "
   ]
  },
  {
   "cell_type": "code",
   "execution_count": 187,
   "metadata": {},
   "outputs": [],
   "source": [
    "t, pnl_vecs = backtest(df, [0.001, 0.002, 0.003, 0.004, 0.005, 0.006])"
   ]
  },
  {
   "cell_type": "code",
   "execution_count": 200,
   "metadata": {},
   "outputs": [
    {
     "data": {
      "text/plain": [
       "Text(0.5, 1.0, 'Cumulative Returns')"
      ]
     },
     "execution_count": 200,
     "metadata": {},
     "output_type": "execute_result"
    },
    {
     "data": {
      "image/png": "[encoded data removed]",
      "text/plain": [
       "<Figure size 864x504 with 1 Axes>"
      ]
     },
     "metadata": {
      "needs_background": "light"
     },
     "output_type": "display_data"
    }
   ],
   "source": [
    "pnl_vecs.cumsum().plot(figsize=(12,7))\n",
    "plt.title('Cumulative Returns')"
   ]
  },
  {
   "cell_type": "code",
   "execution_count": 189,
   "metadata": {},
   "outputs": [],
   "source": [
    "col_names = t.columns.to_list()"
   ]
  },
  {
   "cell_type": "code",
   "execution_count": 190,
   "metadata": {},
   "outputs": [
    {
     "data": {
      "text/html": [
       "<div>\n",
       "<style scoped>\n",
       "    .dataframe tbody tr th:only-of-type {\n",
       "        vertical-align: middle;\n",
       "    }\n",
       "\n",
       "    .dataframe tbody tr th {\n",
       "        vertical-align: top;\n",
       "    }\n",
       "\n",
       "    .dataframe thead th {\n",
       "        text-align: right;\n",
       "    }\n",
       "</style>\n",
       "<table border=\"1\" class=\"dataframe\">\n",
       "  <thead>\n",
       "    <tr style=\"text-align: right;\">\n",
       "      <th></th>\n",
       "      <th>Optimal Trade Entry (a)</th>\n",
       "      <th>Sharpe</th>\n",
       "      <th>Trade_count</th>\n",
       "      <th>avg hold period (hrs)</th>\n",
       "      <th>total return</th>\n",
       "      <th>transaction cost</th>\n",
       "    </tr>\n",
       "  </thead>\n",
       "  <tbody>\n",
       "    <tr>\n",
       "      <th>0</th>\n",
       "      <td>-0.000876</td>\n",
       "      <td>8.557439</td>\n",
       "      <td>664.0</td>\n",
       "      <td>4.337349</td>\n",
       "      <td>1.384365</td>\n",
       "      <td>0.001</td>\n",
       "    </tr>\n",
       "    <tr>\n",
       "      <th>1</th>\n",
       "      <td>-0.001578</td>\n",
       "      <td>5.010465</td>\n",
       "      <td>749.0</td>\n",
       "      <td>3.845127</td>\n",
       "      <td>0.808118</td>\n",
       "      <td>0.002</td>\n",
       "    </tr>\n",
       "    <tr>\n",
       "      <th>2</th>\n",
       "      <td>-0.002305</td>\n",
       "      <td>3.258727</td>\n",
       "      <td>794.0</td>\n",
       "      <td>3.627204</td>\n",
       "      <td>0.521344</td>\n",
       "      <td>0.003</td>\n",
       "    </tr>\n",
       "    <tr>\n",
       "      <th>3</th>\n",
       "      <td>-0.003042</td>\n",
       "      <td>1.955694</td>\n",
       "      <td>794.0</td>\n",
       "      <td>3.627204</td>\n",
       "      <td>0.308615</td>\n",
       "      <td>0.004</td>\n",
       "    </tr>\n",
       "    <tr>\n",
       "      <th>4</th>\n",
       "      <td>-0.003784</td>\n",
       "      <td>0.551772</td>\n",
       "      <td>774.0</td>\n",
       "      <td>3.720930</td>\n",
       "      <td>0.085591</td>\n",
       "      <td>0.005</td>\n",
       "    </tr>\n",
       "    <tr>\n",
       "      <th>5</th>\n",
       "      <td>-0.004528</td>\n",
       "      <td>0.399373</td>\n",
       "      <td>732.0</td>\n",
       "      <td>3.934426</td>\n",
       "      <td>0.061033</td>\n",
       "      <td>0.006</td>\n",
       "    </tr>\n",
       "  </tbody>\n",
       "</table>\n",
       "</div>"
      ],
      "text/plain": [
       "   Optimal Trade Entry (a)    Sharpe  Trade_count  avg hold period (hrs)  \\\n",
       "0                -0.000876  8.557439        664.0               4.337349   \n",
       "1                -0.001578  5.010465        749.0               3.845127   \n",
       "2                -0.002305  3.258727        794.0               3.627204   \n",
       "3                -0.003042  1.955694        794.0               3.627204   \n",
       "4                -0.003784  0.551772        774.0               3.720930   \n",
       "5                -0.004528  0.399373        732.0               3.934426   \n",
       "\n",
       "   total return  transaction cost  \n",
       "0      1.384365             0.001  \n",
       "1      0.808118             0.002  \n",
       "2      0.521344             0.003  \n",
       "3      0.308615             0.004  \n",
       "4      0.085591             0.005  \n",
       "5      0.061033             0.006  "
      ]
     },
     "execution_count": 190,
     "metadata": {},
     "output_type": "execute_result"
    }
   ],
   "source": [
    "t[col_names]"
   ]
  },
  {
   "cell_type": "code",
   "execution_count": 191,
   "metadata": {},
   "outputs": [
    {
     "data": {
      "text/html": [
       "<div>\n",
       "<style scoped>\n",
       "    .dataframe tbody tr th:only-of-type {\n",
       "        vertical-align: middle;\n",
       "    }\n",
       "\n",
       "    .dataframe tbody tr th {\n",
       "        vertical-align: top;\n",
       "    }\n",
       "\n",
       "    .dataframe thead th {\n",
       "        text-align: right;\n",
       "    }\n",
       "</style>\n",
       "<table border=\"1\" class=\"dataframe\">\n",
       "  <thead>\n",
       "    <tr style=\"text-align: right;\">\n",
       "      <th></th>\n",
       "      <th>transaction cost</th>\n",
       "      <th>Optimal Trade Entry (a)</th>\n",
       "      <th>total return</th>\n",
       "      <th>Sharpe</th>\n",
       "      <th>Trade_count</th>\n",
       "      <th>avg hold period (hrs)</th>\n",
       "    </tr>\n",
       "  </thead>\n",
       "  <tbody>\n",
       "    <tr>\n",
       "      <th>0</th>\n",
       "      <td>0.001</td>\n",
       "      <td>-0.000876</td>\n",
       "      <td>1.384365</td>\n",
       "      <td>8.557439</td>\n",
       "      <td>664.0</td>\n",
       "      <td>4.337349</td>\n",
       "    </tr>\n",
       "    <tr>\n",
       "      <th>1</th>\n",
       "      <td>0.002</td>\n",
       "      <td>-0.001578</td>\n",
       "      <td>0.808118</td>\n",
       "      <td>5.010465</td>\n",
       "      <td>749.0</td>\n",
       "      <td>3.845127</td>\n",
       "    </tr>\n",
       "    <tr>\n",
       "      <th>2</th>\n",
       "      <td>0.003</td>\n",
       "      <td>-0.002305</td>\n",
       "      <td>0.521344</td>\n",
       "      <td>3.258727</td>\n",
       "      <td>794.0</td>\n",
       "      <td>3.627204</td>\n",
       "    </tr>\n",
       "    <tr>\n",
       "      <th>3</th>\n",
       "      <td>0.004</td>\n",
       "      <td>-0.003042</td>\n",
       "      <td>0.308615</td>\n",
       "      <td>1.955694</td>\n",
       "      <td>794.0</td>\n",
       "      <td>3.627204</td>\n",
       "    </tr>\n",
       "    <tr>\n",
       "      <th>4</th>\n",
       "      <td>0.005</td>\n",
       "      <td>-0.003784</td>\n",
       "      <td>0.085591</td>\n",
       "      <td>0.551772</td>\n",
       "      <td>774.0</td>\n",
       "      <td>3.720930</td>\n",
       "    </tr>\n",
       "    <tr>\n",
       "      <th>5</th>\n",
       "      <td>0.006</td>\n",
       "      <td>-0.004528</td>\n",
       "      <td>0.061033</td>\n",
       "      <td>0.399373</td>\n",
       "      <td>732.0</td>\n",
       "      <td>3.934426</td>\n",
       "    </tr>\n",
       "  </tbody>\n",
       "</table>\n",
       "</div>"
      ],
      "text/plain": [
       "   transaction cost  Optimal Trade Entry (a)  total return    Sharpe  \\\n",
       "0             0.001                -0.000876      1.384365  8.557439   \n",
       "1             0.002                -0.001578      0.808118  5.010465   \n",
       "2             0.003                -0.002305      0.521344  3.258727   \n",
       "3             0.004                -0.003042      0.308615  1.955694   \n",
       "4             0.005                -0.003784      0.085591  0.551772   \n",
       "5             0.006                -0.004528      0.061033  0.399373   \n",
       "\n",
       "   Trade_count  avg hold period (hrs)  \n",
       "0        664.0               4.337349  \n",
       "1        749.0               3.845127  \n",
       "2        794.0               3.627204  \n",
       "3        794.0               3.627204  \n",
       "4        774.0               3.720930  \n",
       "5        732.0               3.934426  "
      ]
     },
     "execution_count": 191,
     "metadata": {},
     "output_type": "execute_result"
    }
   ],
   "source": [
    "col_names = ['transaction cost',\n",
    "            'Optimal Trade Entry (a)',\n",
    "            'total return',\n",
    "            'Sharpe',\n",
    "            'Trade_count',\n",
    "            'avg hold period (hrs)']\n",
    "t[col_names]"
   ]
  },
  {
   "cell_type": "code",
   "execution_count": 204,
   "metadata": {},
   "outputs": [
    {
     "data": {
      "text/plain": [
       "Text(0.5, 0, 'Transaction cost')"
      ]
     },
     "execution_count": 204,
     "metadata": {},
     "output_type": "execute_result"
    },
    {
     "data": {
      "image/png": "[encoded data removed]",
      "text/plain": [
       "<Figure size 432x288 with 1 Axes>"
      ]
     },
     "metadata": {
      "needs_background": "light"
     },
     "output_type": "display_data"
    }
   ],
   "source": [
    "plt.plot(t['transaction cost'], t['total return'])\n",
    "plt.title('Transaction Costs vs. Total Return')\n",
    "plt.ylabel('Total Return')\n",
    "plt.xlabel('Transaction cost')"
   ]
  },
  {
   "cell_type": "code",
   "execution_count": 205,
   "metadata": {},
   "outputs": [],
   "source": [
    "import math\n",
    "from math import sqrt, exp, log  # exp(n) == e^n, log(n) == ln(n)\n",
    "import scipy.optimize as so\n",
    "import numpy as np\n",
    "\n",
    "def __compute_log_likelihood(params, *args):\n",
    "    '''\n",
    "    Compute the average Log Likelihood, this function will by minimized by scipy.\n",
    "    Find in (2.2) in linked paper\n",
    "\n",
    "    returns: the average log likelihood from given parameters\n",
    "    '''\n",
    "    # functions passed into scipy's minimize() needs accept one parameter, a tuple of\n",
    "    #   of values that we adjust to minimize the value we return.\n",
    "    #   optionally, *args can be passed, which are values we don't change, but still want\n",
    "    #   to use in our function (e.g. the measured heights in our sample or the value Pi)\n",
    "\n",
    "    theta, mu, sigma = params\n",
    "    X, dt = args\n",
    "    n = len(X)\n",
    "\n",
    "    sigma_tilde_squared = sigma ** 2 * (1 - exp(-2 * mu * dt)) / (2 * mu)\n",
    "    summation_term = 0\n",
    "\n",
    "    for i in range(1, len(X)):\n",
    "        summation_term += (X[i] - X[i - 1] * exp(-mu * dt) - theta * (1 - exp(-mu * dt))) ** 2\n",
    "\n",
    "    summation_term = -summation_term / (2 * n * sigma_tilde_squared)\n",
    "\n",
    "    log_likelihood = (-log(2 * math.pi) / 2) + (-log(sqrt(sigma_tilde_squared))) + summation_term\n",
    "\n",
    "    return -log_likelihood\n",
    "    # since we want to maximize this total log likelihood, we need to minimize the\n",
    "    #   negation of the this value (scipy doesn't support maximize)\n",
    "\n",
    "\n",
    "def estimate_coefficients_MLE(X, dt, tol=1e-4):\n",
    "    '''\n",
    "    Estimates Ornstein-Uhlenbeck coefficients (θ, µ, σ) of the given array\n",
    "    using the Maximum Likelihood Estimation method\n",
    "\n",
    "    input: X - array-like time series data to be fit as an OU process\n",
    "           dt - time increment (1 / days(start date - end date))\n",
    "           tol - tolerance for determination (smaller tolerance means higher precision)\n",
    "    returns: θ, µ, σ, Average Log Likelihood\n",
    "    '''\n",
    "\n",
    "    bounds = ((None, None), (1e-5, None), (1e-5, None))  # theta ∈ ℝ, mu > 0, sigma > 0\n",
    "                                                           # we need 1e-10 b/c scipy bounds are inclusive of 0, \n",
    "                                                           # and sigma = 0 causes division by 0 error\n",
    "    theta_init = np.mean(X)\n",
    "    initial_guess = (theta_init, 100, 100)  # initial guesses for theta, mu, sigma\n",
    "    result = so.minimize(__compute_log_likelihood, initial_guess, args=(X, dt), bounds=bounds)\n",
    "    theta, mu, sigma = result.x \n",
    "    max_log_likelihood = -result.fun  # undo negation from __compute_log_likelihood\n",
    "    # .x gets the optimized parameters, .fun gets the optimized value\n",
    "    return theta, mu, sigma, max_log_likelihood"
   ]
  },
  {
   "cell_type": "code",
   "execution_count": 207,
   "metadata": {},
   "outputs": [
    {
     "data": {
      "text/plain": [
       "(-0.007068127985201548,\n",
       " 100.44085596686281,\n",
       " 0.29529387560179543,\n",
       " 4.455260834259968)"
      ]
     },
     "execution_count": 207,
     "metadata": {},
     "output_type": "execute_result"
    }
   ],
   "source": [
    "estimate_coefficients_MLE(df['orig'], 1/len(df))"
   ]
  },
  {
   "cell_type": "code",
   "execution_count": 216,
   "metadata": {},
   "outputs": [],
   "source": [
    "def backtest2(df, t_c):\n",
    "    # create results dictionary\n",
    "    res_df = pd.DataFrame()\n",
    "    pnl_vectors = pd.DataFrame()\n",
    "    for tc in t_c:\n",
    "        res = {}\n",
    "        res['transaction cost'] = tc\n",
    "        #find a & m using maximum expected return formula\n",
    "        a = mer(0.95146, 0.003, tc)\n",
    "        m = -a\n",
    "        #store result\n",
    "        res['Optimal Trade Entry (a)'] = a\n",
    "        #generate vecoried buy-sell signals \n",
    "        #buy when Xt <= a\n",
    "        df['bs'] = np.where(df.orig <= a, 1, 0)\n",
    "        #sell when Xt >= m \n",
    "        df['bs'] = np.where(df.orig >= m, -1, df.bs)\n",
    "        #fill neutral signals with previous buy/sell signal \n",
    "        df.bs = np.where(df.bs == 0 , df.bs.shift(-1), df.bs)\n",
    "        #find pnl\n",
    "        df['pnl'] = df.bs.shift(1) * df.CO1_ret - df.bs.shift(1) * df.CO2_ret\n",
    "        #store vetor in result dataframe\n",
    "        pnl_vectors['pnl_tc_' + str(tc)] = df.pnl\n",
    "        res['total return']= df.pnl.sum()\n",
    "        res['Sharpe'] = df.pnl.mean() / df.pnl.std() * np.sqrt(6*24*252) \n",
    "        trade_count = 0 \n",
    "        for i in range(1,len(df)):\n",
    "            if df.loc[i, 'bs'] != df.loc[i-1, 'bs']:\n",
    "                trade_count += 1\n",
    "        res['Trade_count'] = trade_count\n",
    "        res['avg hold period (hrs)'] = 2880 / trade_count \n",
    "        res_df = res_df.append(res, ignore_index = True)\n",
    "    return res_df, pnl_vectors"
   ]
  },
  {
   "cell_type": "code",
   "execution_count": 217,
   "metadata": {},
   "outputs": [],
   "source": [
    "second_set, second_df = backtest2(df, [0.0001, 0.0002, 0.001, 0.002])"
   ]
  },
  {
   "cell_type": "code",
   "execution_count": 218,
   "metadata": {},
   "outputs": [
    {
     "data": {
      "text/plain": [
       "<matplotlib.axes._subplots.AxesSubplot at 0x20af3063c88>"
      ]
     },
     "execution_count": 218,
     "metadata": {},
     "output_type": "execute_result"
    },
    {
     "data": {
      "image/png": "[encoded data removed]",
      "text/plain": [
       "<Figure size 432x288 with 1 Axes>"
      ]
     },
     "metadata": {
      "needs_background": "light"
     },
     "output_type": "display_data"
    }
   ],
   "source": [
    "second_df.cumsum().plot()"
   ]
  },
  {
   "cell_type": "code",
   "execution_count": 224,
   "metadata": {},
   "outputs": [
    {
     "name": "stdout",
     "output_type": "stream",
     "text": [
      "                              ARMA Model Results                              \n",
      "==============================================================================\n",
      "Dep. Variable:                   orig   No. Observations:                10934\n",
      "Model:                     ARMA(1, 0)   Log Likelihood               48801.301\n",
      "Method:                       css-mle   S.D. of innovations              0.003\n",
      "Date:                Mon, 04 Jan 2021   AIC                         -97596.602\n",
      "Time:                        17:09:23   BIC                         -97574.703\n",
      "Sample:                             0   HQIC                        -97589.222\n",
      "                                                                              \n",
      "==============================================================================\n",
      "                 coef    std err          z      P>|z|      [0.025      0.975]\n",
      "------------------------------------------------------------------------------\n",
      "const         -0.0072      0.001    -13.139      0.000      -0.008      -0.006\n",
      "ar.L1.orig     0.9514      0.003    323.151      0.000       0.946       0.957\n",
      "                                    Roots                                    \n",
      "=============================================================================\n",
      "                  Real          Imaginary           Modulus         Frequency\n",
      "-----------------------------------------------------------------------------\n",
      "AR.1            1.0511           +0.0000j            1.0511            0.0000\n",
      "-----------------------------------------------------------------------------\n"
     ]
    }
   ],
   "source": [
    "from statsmodels.tsa.arima_model import ARMA\n",
    "\n",
    "# Fit an AR(1) model to the first simulated data\n",
    "mod = ARMA(df.orig, order=(1, 0))\n",
    "res = mod.fit()\n",
    "\n",
    "# Print out summary information on the fit\n",
    "print(res.summary())"
   ]
  },
  {
   "cell_type": "code",
   "execution_count": 229,
   "metadata": {},
   "outputs": [
    {
     "name": "stdout",
     "output_type": "stream",
     "text": [
      "0.9513703104138301\n"
     ]
    }
   ],
   "source": [
    "print(res.params[1])"
   ]
  },
  {
   "cell_type": "code",
   "execution_count": null,
   "metadata": {},
   "outputs": [],
   "source": []
  }
 ],
 "metadata": {
  "kernelspec": {
   "display_name": "Python 3",
   "language": "python",
   "name": "python3"
  },
  "language_info": {
   "codemirror_mode": {
    "name": "ipython",
    "version": 3
   },
   "file_extension": ".py",
   "mimetype": "text/x-python",
   "name": "python",
   "nbconvert_exporter": "python",
   "pygments_lexer": "ipython3",
   "version": "3.7.6"
  }
 },
 "nbformat": 4,
 "nbformat_minor": 4
}
